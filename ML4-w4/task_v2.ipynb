{
 "cells": [
  {
   "cell_type": "code",
   "execution_count": 3,
   "metadata": {
    "colab": {},
    "colab_type": "code",
    "id": "bgiL_yKL3lDK"
   },
   "outputs": [],
   "source": [
    "import numpy as np\n",
    "import pandas as pd\n",
    "import matplotlib.pyplot as plt\n",
    "\n",
    "\n",
    "%matplotlib inline"
   ]
  },
  {
   "cell_type": "markdown",
   "metadata": {
    "deletable": false,
    "editable": false,
    "nbgrader": {
     "cell_type": "markdown",
     "checksum": "97f335734d7422c1790629940a208554",
     "grade": false,
     "grade_id": "cell-06a28f034c84a96d",
     "locked": true,
     "schema_version": 3,
     "solution": false,
     "task": false
    }
   },
   "source": [
    "This is programming assignment for week 4. In this assignment you will be solving classification task and performing exploratory data analysis. \n",
    "\n",
    "### Grading\n",
    "The assignment contains both automatically graded and peer reviewed tasks. \n",
    "\n",
    "**Automatic grading**\n",
    "After you finish solving all the tasks restart the kernel (`kernel -> restart`) and and click button `Validate` to check that everything works as expected. Afterwards, you can submit your work.\n",
    "\n",
    "**Peer Review**\n",
    "Some of the tasks cannot be checked automatically,  therefore, we'll be using peer review. Please, download this notebook with solutions (`File → Download as → Notebook (.ipynb)`) and submit it for peer review. Each peer reviewed task contains grading instructions. \n",
    "\n",
    "\n",
    "# Table of Contents:\n",
    "* [Part1.](#part1) EDA and Feature Engineering\n",
    "    - [Explore the Target Variable](#target)\n",
    "    - [Categorical Features](#cat_features)\n",
    "        - [Task 1](#task1) [2 pts]\n",
    "        - [Task 2](#task2) [1 pt]\n",
    "        - [Task 3](#task3) [1 pt]\n",
    "        - [Task 4](#task4) [1 pt]\n",
    "        - [Task 5](#task5) [peer review]\n",
    "    - [Ordinal and numeric features](#rest_features)\n",
    "        - [Task 6](#task6) [peer review]\n",
    "        - [Task 7](#task7) [1 pt]\n",
    "        - [Task 8](#task8) [peer review]\n",
    "        - [Task 9](#task9) [1 pt]\n",
    "    - [Missing values](#na)\n",
    "        - [Task 10](#task10) [1 pt]\n",
    "        - [Task 11](#task11) [2 pts]\n",
    "    - [Columns transformers](#columns)\n",
    "        - [Task 12](#task12) [2 pts]\n",
    "    - [Train-test split](#train_test)\n",
    "* [Part2](#part2). Training, comparing and testing models\n",
    "    - [Task 13](#task13) [1 pt]\n",
    "    - [Task 14](#task14) [1 pt]\n",
    "    - [Task 15](#task15) [2 pts]"
   ]
  },
  {
   "cell_type": "markdown",
   "metadata": {
    "colab_type": "text",
    "deletable": false,
    "editable": false,
    "id": "GMf9yLqu-N-N",
    "nbgrader": {
     "cell_type": "markdown",
     "checksum": "267fed599d5d6c7c31967dc335741cb1",
     "grade": false,
     "grade_id": "cell-af93d1d8ec998e33",
     "locked": true,
     "schema_version": 3,
     "solution": false,
     "task": false
    }
   },
   "source": [
    "# Part 1. Exploratory Data Analysis (EDA) and Feature Engineering <a class=\"anchor\" id=\"part1\"></a>\n",
    "\n",
    "\n",
    "### The goal\n",
    "Explore the data, fix NAs, check if there are some mistakes and outliers, preprocess and select relevant features before fitting the model.\n"
   ]
  },
  {
   "cell_type": "markdown",
   "metadata": {
    "colab_type": "text",
    "deletable": false,
    "editable": false,
    "id": "Kts8synQs37y",
    "nbgrader": {
     "cell_type": "markdown",
     "checksum": "6cd75eb3dc1214b9b8416a4c4f36eeca",
     "grade": false,
     "grade_id": "cell-b3397408a1f2c9ae",
     "locked": true,
     "schema_version": 3,
     "solution": false,
     "task": false
    }
   },
   "source": [
    "## 0. Explore the dataset and the task\n",
    "\n",
    "Below you can find the dataset, which you will be working with in this assignment. It contains information about the passangers of the Titanic. The target variable that we are going to predict is `Survived`. It is a binary variable which indicates whether a given passenger survived in the Titanic catastroph."
   ]
  },
  {
   "cell_type": "code",
   "execution_count": 4,
   "metadata": {
    "colab": {
     "base_uri": "https://localhost:8080/",
     "height": 195
    },
    "colab_type": "code",
    "executionInfo": {
     "elapsed": 744,
     "status": "ok",
     "timestamp": 1588940435271,
     "user": {
      "displayName": "Anna Kuzina",
      "photoUrl": "https://lh3.googleusercontent.com/a-/AOh14GiemaXGZADupTQf2gOFyfVMKD8BYzFXipMt2krfaeg=s64",
      "userId": "14976976853760262600"
     },
     "user_tz": -180
    },
    "id": "fzy6pMGbHriu",
    "outputId": "13a5b916-53c8-4950-8c2a-19f488d30f16"
   },
   "outputs": [
    {
     "data": {
      "text/html": [
       "<div>\n",
       "<style scoped>\n",
       "    .dataframe tbody tr th:only-of-type {\n",
       "        vertical-align: middle;\n",
       "    }\n",
       "\n",
       "    .dataframe tbody tr th {\n",
       "        vertical-align: top;\n",
       "    }\n",
       "\n",
       "    .dataframe thead th {\n",
       "        text-align: right;\n",
       "    }\n",
       "</style>\n",
       "<table border=\"1\" class=\"dataframe\">\n",
       "  <thead>\n",
       "    <tr style=\"text-align: right;\">\n",
       "      <th></th>\n",
       "      <th>PassengerId</th>\n",
       "      <th>Survived</th>\n",
       "      <th>Pclass</th>\n",
       "      <th>Name</th>\n",
       "      <th>Sex</th>\n",
       "      <th>Age</th>\n",
       "      <th>SibSp</th>\n",
       "      <th>Parch</th>\n",
       "      <th>Ticket</th>\n",
       "      <th>Fare</th>\n",
       "      <th>Cabin</th>\n",
       "      <th>Embarked</th>\n",
       "    </tr>\n",
       "  </thead>\n",
       "  <tbody>\n",
       "    <tr>\n",
       "      <th>0</th>\n",
       "      <td>1</td>\n",
       "      <td>0</td>\n",
       "      <td>3</td>\n",
       "      <td>Braund, Mr. Owen Harris</td>\n",
       "      <td>male</td>\n",
       "      <td>22.0</td>\n",
       "      <td>1</td>\n",
       "      <td>0</td>\n",
       "      <td>A/5 21171</td>\n",
       "      <td>7.2500</td>\n",
       "      <td>NaN</td>\n",
       "      <td>S</td>\n",
       "    </tr>\n",
       "    <tr>\n",
       "      <th>1</th>\n",
       "      <td>2</td>\n",
       "      <td>1</td>\n",
       "      <td>1</td>\n",
       "      <td>Cumings, Mrs. John Bradley (Florence Briggs Th...</td>\n",
       "      <td>female</td>\n",
       "      <td>38.0</td>\n",
       "      <td>1</td>\n",
       "      <td>0</td>\n",
       "      <td>PC 17599</td>\n",
       "      <td>71.2833</td>\n",
       "      <td>C85</td>\n",
       "      <td>C</td>\n",
       "    </tr>\n",
       "    <tr>\n",
       "      <th>2</th>\n",
       "      <td>3</td>\n",
       "      <td>1</td>\n",
       "      <td>3</td>\n",
       "      <td>Heikkinen, Miss. Laina</td>\n",
       "      <td>female</td>\n",
       "      <td>26.0</td>\n",
       "      <td>0</td>\n",
       "      <td>0</td>\n",
       "      <td>STON/O2. 3101282</td>\n",
       "      <td>7.9250</td>\n",
       "      <td>NaN</td>\n",
       "      <td>S</td>\n",
       "    </tr>\n",
       "    <tr>\n",
       "      <th>3</th>\n",
       "      <td>4</td>\n",
       "      <td>1</td>\n",
       "      <td>1</td>\n",
       "      <td>Futrelle, Mrs. Jacques Heath (Lily May Peel)</td>\n",
       "      <td>female</td>\n",
       "      <td>35.0</td>\n",
       "      <td>1</td>\n",
       "      <td>0</td>\n",
       "      <td>113803</td>\n",
       "      <td>53.1000</td>\n",
       "      <td>C123</td>\n",
       "      <td>S</td>\n",
       "    </tr>\n",
       "    <tr>\n",
       "      <th>4</th>\n",
       "      <td>5</td>\n",
       "      <td>0</td>\n",
       "      <td>3</td>\n",
       "      <td>Allen, Mr. William Henry</td>\n",
       "      <td>male</td>\n",
       "      <td>35.0</td>\n",
       "      <td>0</td>\n",
       "      <td>0</td>\n",
       "      <td>373450</td>\n",
       "      <td>8.0500</td>\n",
       "      <td>NaN</td>\n",
       "      <td>S</td>\n",
       "    </tr>\n",
       "  </tbody>\n",
       "</table>\n",
       "</div>"
      ],
      "text/plain": [
       "   PassengerId  Survived  Pclass  \\\n",
       "0            1         0       3   \n",
       "1            2         1       1   \n",
       "2            3         1       3   \n",
       "3            4         1       1   \n",
       "4            5         0       3   \n",
       "\n",
       "                                                Name     Sex   Age  SibSp  \\\n",
       "0                            Braund, Mr. Owen Harris    male  22.0      1   \n",
       "1  Cumings, Mrs. John Bradley (Florence Briggs Th...  female  38.0      1   \n",
       "2                             Heikkinen, Miss. Laina  female  26.0      0   \n",
       "3       Futrelle, Mrs. Jacques Heath (Lily May Peel)  female  35.0      1   \n",
       "4                           Allen, Mr. William Henry    male  35.0      0   \n",
       "\n",
       "   Parch            Ticket     Fare Cabin Embarked  \n",
       "0      0         A/5 21171   7.2500   NaN        S  \n",
       "1      0          PC 17599  71.2833   C85        C  \n",
       "2      0  STON/O2. 3101282   7.9250   NaN        S  \n",
       "3      0            113803  53.1000  C123        S  \n",
       "4      0            373450   8.0500   NaN        S  "
      ]
     },
     "execution_count": 4,
     "metadata": {},
     "output_type": "execute_result"
    }
   ],
   "source": [
    "titanic = pd.read_csv('titanic.csv')\n",
    "titanic.head()"
   ]
  },
  {
   "cell_type": "markdown",
   "metadata": {
    "colab_type": "text",
    "deletable": false,
    "editable": false,
    "id": "oB4Yts808Zy0",
    "nbgrader": {
     "cell_type": "markdown",
     "checksum": "b157aeb0c038b4409929e8dd3ca57f80",
     "grade": false,
     "grade_id": "cell-2bb77c57b5e35580",
     "locked": true,
     "schema_version": 3,
     "solution": false,
     "task": false
    }
   },
   "source": [
    "We have data for Titanic passengers, the goal is to predict the column `Survived`."
   ]
  },
  {
   "cell_type": "markdown",
   "metadata": {
    "colab_type": "text",
    "deletable": false,
    "editable": false,
    "id": "0J9rbBfC-oXz",
    "nbgrader": {
     "cell_type": "markdown",
     "checksum": "86b898f53d69b1308154d7d39644048f",
     "grade": false,
     "grade_id": "cell-43979b891da25a75",
     "locked": true,
     "schema_version": 3,
     "solution": false,
     "task": false
    }
   },
   "source": [
    "## 1.1 Explore the target <a class=\"anchor\" id=\"target\"></a>\n",
    "\n",
    "To begin with, let us plot the barplot for the traget variable. It is very convenient to use wrapper around `matplotlib` provided by `pandas`. You can read about it [here](https://pandas.pydata.org/pandas-docs/stable/user_guide/cookbook.html#cookbook-plotting)."
   ]
  },
  {
   "cell_type": "code",
   "execution_count": 5,
   "metadata": {
    "colab": {
     "base_uri": "https://localhost:8080/",
     "height": 70
    },
    "colab_type": "code",
    "executionInfo": {
     "elapsed": 727,
     "status": "ok",
     "timestamp": 1588941164772,
     "user": {
      "displayName": "Anna Kuzina",
      "photoUrl": "https://lh3.googleusercontent.com/a-/AOh14GiemaXGZADupTQf2gOFyfVMKD8BYzFXipMt2krfaeg=s64",
      "userId": "14976976853760262600"
     },
     "user_tz": -180
    },
    "id": "KbjWspnu_bjZ",
    "outputId": "0ee65d2c-481c-49c3-e9ea-94de6ded4155"
   },
   "outputs": [
    {
     "data": {
      "image/png": "[encoded data removed]",
      "text/plain": [
       "<Figure size 432x288 with 1 Axes>"
      ]
     },
     "metadata": {
      "needs_background": "light"
     },
     "output_type": "display_data"
    }
   ],
   "source": [
    "titanic.Survived.value_counts().plot(kind='bar')\n",
    "plt.grid()\n",
    "plt.title('Distirbution of the target variable');"
   ]
  },
  {
   "cell_type": "markdown",
   "metadata": {
    "deletable": false,
    "editable": false,
    "nbgrader": {
     "cell_type": "markdown",
     "checksum": "792236382b32831f7995e9759bd5bd5c",
     "grade": false,
     "grade_id": "cell-de2f3f6602aa13a3",
     "locked": true,
     "schema_version": 3,
     "solution": false,
     "task": false
    }
   },
   "source": [
    "---\n",
    "## 1.2 Explore categorical features <a class=\"anchor\" id=\"cat_features\"></a>\n",
    "\n",
    "\n",
    "We will start from creating a new feature called `Title`. By the title we mean the name prefix, such as `Mr`, `Miss`, `Dr` etc. It may tell us a lot about age or family status of the passenger even if this information is missing from the dataset. \n",
    "\n",
    "Let us take a look at some of the `Name` values. You can see that for each passenger name is organised as: \n",
    "\n",
    "```\n",
    "Surname, Title. Name\n",
    "```"
   ]
  },
  {
   "cell_type": "code",
   "execution_count": 6,
   "metadata": {},
   "outputs": [
    {
     "data": {
      "text/plain": [
       "0                              Braund, Mr. Owen Harris\n",
       "1    Cumings, Mrs. John Bradley (Florence Briggs Th...\n",
       "2                               Heikkinen, Miss. Laina\n",
       "3         Futrelle, Mrs. Jacques Heath (Lily May Peel)\n",
       "4                             Allen, Mr. William Henry\n",
       "5                                     Moran, Mr. James\n",
       "6                              McCarthy, Mr. Timothy J\n",
       "7                       Palsson, Master. Gosta Leonard\n",
       "8    Johnson, Mrs. Oscar W (Elisabeth Vilhelmina Berg)\n",
       "9                  Nasser, Mrs. Nicholas (Adele Achem)\n",
       "Name: Name, dtype: object"
      ]
     },
     "execution_count": 6,
     "metadata": {},
     "output_type": "execute_result"
    }
   ],
   "source": [
    "titanic.Name[:10]"
   ]
  },
  {
   "cell_type": "markdown",
   "metadata": {
    "deletable": false,
    "editable": false,
    "nbgrader": {
     "cell_type": "markdown",
     "checksum": "8ee0c245bf2ff2b4b5ddf539825964ce",
     "grade": false,
     "grade_id": "cell-659ab36c0b2d9999",
     "locked": true,
     "schema_version": 3,
     "solution": false,
     "task": false
    }
   },
   "source": [
    "---\n",
    "**Task 1** [2 pts] Add a new column `Title` to the `titanic` dataframe. <a class=\"anchor\" id=\"task1\"></a>\n",
    "\n",
    "*Hints:* \n",
    "1. You need to extract part of the string from each value of the `Name` column\n",
    "2. `pandas.Series.str` has wide variaty of vectorized string functions. That is, if you run `titanic.Name.str.useful_function()`, then `useful_function()` will be applied to each element of the column `Name`. Take a look at the [documentation](https://pandas.pydata.org/pandas-docs/stable/reference/api/pandas.Series.str.html) for more details and the list of \"useful functions\".\n",
    "3. You'll likelily need to apply regular expressions (but it is also to possible to do the task without it). Do not worry, it is nothing sophisticated. Here is all you need to know:\n",
    " * `[a-zA-Z]` - refers to any letter \n",
    " * `\\.` - refers to the dot\n",
    " * `\\,` - refers to the comma\n",
    " * `+` - means that the element repeats 1 or more times. E.g. `\\.+` means 1 or more dots\n",
    " * `\\s` - refers to any spacing sign \n",
    "4. Extract the title without the dot that goes after it"
   ]
  },
  {
   "cell_type": "code",
   "execution_count": 7,
   "metadata": {},
   "outputs": [],
   "source": [
    "t1 = titanic.Name.str.split(',', expand=True)[1]\n",
    "t2=t1.str.split(expand=True)[0]\n",
    "t3 = t2.str.split(pat=\".\",expand=True)\n",
    "titanic['Title']=t3[0]"
   ]
  },
  {
   "cell_type": "code",
   "execution_count": null,
   "metadata": {},
   "outputs": [],
   "source": []
  },
  {
   "cell_type": "code",
   "execution_count": null,
   "metadata": {
    "deletable": false,
    "nbgrader": {
     "cell_type": "code",
     "checksum": "dca152e7ab7e2745bd1bd5b1c54c36e4",
     "grade": false,
     "grade_id": "cell-f91f30953488d53c",
     "locked": false,
     "schema_version": 3,
     "solution": true,
     "task": false
    }
   },
   "outputs": [],
   "source": []
  },
  {
   "cell_type": "code",
   "execution_count": 8,
   "metadata": {
    "deletable": false,
    "editable": false,
    "nbgrader": {
     "cell_type": "code",
     "checksum": "1d1eec05257beb7b11ce3302b05d164b",
     "grade": true,
     "grade_id": "cell-4067a2abcca23a51",
     "locked": true,
     "points": 2,
     "schema_version": 3,
     "solution": false,
     "task": false
    }
   },
   "outputs": [
    {
     "name": "stdout",
     "output_type": "stream",
     "text": [
      "Mr          517\n",
      "Miss        182\n",
      "Mrs         125\n",
      "Master       40\n",
      "Dr            7\n",
      "Rev           6\n",
      "Col           2\n",
      "Mlle          2\n",
      "Major         2\n",
      "Capt          1\n",
      "the           1\n",
      "Jonkheer      1\n",
      "Mme           1\n",
      "Sir           1\n",
      "Lady          1\n",
      "Don           1\n",
      "Ms            1\n",
      "Name: Title, dtype: int64\n"
     ]
    }
   ],
   "source": [
    "print(titanic['Title'].value_counts())\n",
    "\n",
    "assert titanic['Title'].value_counts().shape[0] == 17, 'Wrong number of unique titles. 17 is expected'\n",
    "assert titanic['Title'].value_counts().Mr == 517, 'Wrong number of passengers with the Title `Mr`. 517 is expected'\n",
    "assert titanic['Title'].value_counts().Miss == 182, 'Wrong number of passengers with the Title `Miss`. 182 is expected'\n",
    "assert titanic['Title'].value_counts().Dr == 7, 'Wrong number of passengers with the Title `Dr`. 7 is expected'\n",
    "names = ['Newell, Miss. Madeleine', 'Gale, Mr. Shadrach', 'Moubarek, Master. Halim Gonios (\"William George\")']\n",
    "titles = ['Miss', 'Mr', 'Master']\n",
    "for n, t in zip(names, titles):\n",
    "    assert titanic.Title[titanic.Name == n].values == t, 'Wrong title for the passenger {}'.format(n)"
   ]
  },
  {
   "cell_type": "markdown",
   "metadata": {
    "deletable": false,
    "editable": false,
    "nbgrader": {
     "cell_type": "markdown",
     "checksum": "f9c9b83cdaa003df5c3395ef4c022e0d",
     "grade": false,
     "grade_id": "cell-e9206102af974de2",
     "locked": true,
     "schema_version": 3,
     "solution": false,
     "task": false
    }
   },
   "source": [
    "<a class=\"anchor\" id=\"task2\"></a>\n",
    "You can see that some titles are very rare, which makes their usefulness questionable. We will now combine all the titles which has 6 or less observations into one category called `Other`.\n",
    "\n",
    "---\n",
    "**Task 2** [1 pt]. Create a vector `proper_titles` which contains all titles with > 6 observations. For all the passengers, who have title not from the `proper_titles` list, rename their `Title` to `Other`."
   ]
  },
  {
   "cell_type": "code",
   "execution_count": 9,
   "metadata": {
    "deletable": false,
    "nbgrader": {
     "cell_type": "code",
     "checksum": "e606bb420c566178700085b81d9e2df3",
     "grade": false,
     "grade_id": "cell-47b93248f33ead1e",
     "locked": false,
     "schema_version": 3,
     "solution": true,
     "task": false
    }
   },
   "outputs": [
    {
     "data": {
      "text/html": [
       "<div>\n",
       "<style scoped>\n",
       "    .dataframe tbody tr th:only-of-type {\n",
       "        vertical-align: middle;\n",
       "    }\n",
       "\n",
       "    .dataframe tbody tr th {\n",
       "        vertical-align: top;\n",
       "    }\n",
       "\n",
       "    .dataframe thead th {\n",
       "        text-align: right;\n",
       "    }\n",
       "</style>\n",
       "<table border=\"1\" class=\"dataframe\">\n",
       "  <thead>\n",
       "    <tr style=\"text-align: right;\">\n",
       "      <th></th>\n",
       "      <th>PassengerId</th>\n",
       "      <th>Survived</th>\n",
       "      <th>Pclass</th>\n",
       "      <th>Name</th>\n",
       "      <th>Sex</th>\n",
       "      <th>Age</th>\n",
       "      <th>SibSp</th>\n",
       "      <th>Parch</th>\n",
       "      <th>Ticket</th>\n",
       "      <th>Fare</th>\n",
       "      <th>Cabin</th>\n",
       "      <th>Embarked</th>\n",
       "      <th>Title</th>\n",
       "    </tr>\n",
       "  </thead>\n",
       "  <tbody>\n",
       "    <tr>\n",
       "      <th>0</th>\n",
       "      <td>1</td>\n",
       "      <td>0</td>\n",
       "      <td>3</td>\n",
       "      <td>Braund, Mr. Owen Harris</td>\n",
       "      <td>male</td>\n",
       "      <td>22.0</td>\n",
       "      <td>1</td>\n",
       "      <td>0</td>\n",
       "      <td>A/5 21171</td>\n",
       "      <td>7.2500</td>\n",
       "      <td>NaN</td>\n",
       "      <td>S</td>\n",
       "      <td>Mr</td>\n",
       "    </tr>\n",
       "    <tr>\n",
       "      <th>1</th>\n",
       "      <td>2</td>\n",
       "      <td>1</td>\n",
       "      <td>1</td>\n",
       "      <td>Cumings, Mrs. John Bradley (Florence Briggs Th...</td>\n",
       "      <td>female</td>\n",
       "      <td>38.0</td>\n",
       "      <td>1</td>\n",
       "      <td>0</td>\n",
       "      <td>PC 17599</td>\n",
       "      <td>71.2833</td>\n",
       "      <td>C85</td>\n",
       "      <td>C</td>\n",
       "      <td>Mrs</td>\n",
       "    </tr>\n",
       "    <tr>\n",
       "      <th>2</th>\n",
       "      <td>3</td>\n",
       "      <td>1</td>\n",
       "      <td>3</td>\n",
       "      <td>Heikkinen, Miss. Laina</td>\n",
       "      <td>female</td>\n",
       "      <td>26.0</td>\n",
       "      <td>0</td>\n",
       "      <td>0</td>\n",
       "      <td>STON/O2. 3101282</td>\n",
       "      <td>7.9250</td>\n",
       "      <td>NaN</td>\n",
       "      <td>S</td>\n",
       "      <td>Miss</td>\n",
       "    </tr>\n",
       "    <tr>\n",
       "      <th>3</th>\n",
       "      <td>4</td>\n",
       "      <td>1</td>\n",
       "      <td>1</td>\n",
       "      <td>Futrelle, Mrs. Jacques Heath (Lily May Peel)</td>\n",
       "      <td>female</td>\n",
       "      <td>35.0</td>\n",
       "      <td>1</td>\n",
       "      <td>0</td>\n",
       "      <td>113803</td>\n",
       "      <td>53.1000</td>\n",
       "      <td>C123</td>\n",
       "      <td>S</td>\n",
       "      <td>Mrs</td>\n",
       "    </tr>\n",
       "    <tr>\n",
       "      <th>4</th>\n",
       "      <td>5</td>\n",
       "      <td>0</td>\n",
       "      <td>3</td>\n",
       "      <td>Allen, Mr. William Henry</td>\n",
       "      <td>male</td>\n",
       "      <td>35.0</td>\n",
       "      <td>0</td>\n",
       "      <td>0</td>\n",
       "      <td>373450</td>\n",
       "      <td>8.0500</td>\n",
       "      <td>NaN</td>\n",
       "      <td>S</td>\n",
       "      <td>Mr</td>\n",
       "    </tr>\n",
       "    <tr>\n",
       "      <th>...</th>\n",
       "      <td>...</td>\n",
       "      <td>...</td>\n",
       "      <td>...</td>\n",
       "      <td>...</td>\n",
       "      <td>...</td>\n",
       "      <td>...</td>\n",
       "      <td>...</td>\n",
       "      <td>...</td>\n",
       "      <td>...</td>\n",
       "      <td>...</td>\n",
       "      <td>...</td>\n",
       "      <td>...</td>\n",
       "      <td>...</td>\n",
       "    </tr>\n",
       "    <tr>\n",
       "      <th>886</th>\n",
       "      <td>887</td>\n",
       "      <td>0</td>\n",
       "      <td>2</td>\n",
       "      <td>Montvila, Rev. Juozas</td>\n",
       "      <td>male</td>\n",
       "      <td>27.0</td>\n",
       "      <td>0</td>\n",
       "      <td>0</td>\n",
       "      <td>211536</td>\n",
       "      <td>13.0000</td>\n",
       "      <td>NaN</td>\n",
       "      <td>S</td>\n",
       "      <td>Other</td>\n",
       "    </tr>\n",
       "    <tr>\n",
       "      <th>887</th>\n",
       "      <td>888</td>\n",
       "      <td>1</td>\n",
       "      <td>1</td>\n",
       "      <td>Graham, Miss. Margaret Edith</td>\n",
       "      <td>female</td>\n",
       "      <td>19.0</td>\n",
       "      <td>0</td>\n",
       "      <td>0</td>\n",
       "      <td>112053</td>\n",
       "      <td>30.0000</td>\n",
       "      <td>B42</td>\n",
       "      <td>S</td>\n",
       "      <td>Miss</td>\n",
       "    </tr>\n",
       "    <tr>\n",
       "      <th>888</th>\n",
       "      <td>889</td>\n",
       "      <td>0</td>\n",
       "      <td>3</td>\n",
       "      <td>Johnston, Miss. Catherine Helen \"Carrie\"</td>\n",
       "      <td>female</td>\n",
       "      <td>NaN</td>\n",
       "      <td>1</td>\n",
       "      <td>2</td>\n",
       "      <td>W./C. 6607</td>\n",
       "      <td>23.4500</td>\n",
       "      <td>NaN</td>\n",
       "      <td>S</td>\n",
       "      <td>Miss</td>\n",
       "    </tr>\n",
       "    <tr>\n",
       "      <th>889</th>\n",
       "      <td>890</td>\n",
       "      <td>1</td>\n",
       "      <td>1</td>\n",
       "      <td>Behr, Mr. Karl Howell</td>\n",
       "      <td>male</td>\n",
       "      <td>26.0</td>\n",
       "      <td>0</td>\n",
       "      <td>0</td>\n",
       "      <td>111369</td>\n",
       "      <td>30.0000</td>\n",
       "      <td>C148</td>\n",
       "      <td>C</td>\n",
       "      <td>Mr</td>\n",
       "    </tr>\n",
       "    <tr>\n",
       "      <th>890</th>\n",
       "      <td>891</td>\n",
       "      <td>0</td>\n",
       "      <td>3</td>\n",
       "      <td>Dooley, Mr. Patrick</td>\n",
       "      <td>male</td>\n",
       "      <td>32.0</td>\n",
       "      <td>0</td>\n",
       "      <td>0</td>\n",
       "      <td>370376</td>\n",
       "      <td>7.7500</td>\n",
       "      <td>NaN</td>\n",
       "      <td>Q</td>\n",
       "      <td>Mr</td>\n",
       "    </tr>\n",
       "  </tbody>\n",
       "</table>\n",
       "<p>891 rows × 13 columns</p>\n",
       "</div>"
      ],
      "text/plain": [
       "     PassengerId  Survived  Pclass  \\\n",
       "0              1         0       3   \n",
       "1              2         1       1   \n",
       "2              3         1       3   \n",
       "3              4         1       1   \n",
       "4              5         0       3   \n",
       "..           ...       ...     ...   \n",
       "886          887         0       2   \n",
       "887          888         1       1   \n",
       "888          889         0       3   \n",
       "889          890         1       1   \n",
       "890          891         0       3   \n",
       "\n",
       "                                                  Name     Sex   Age  SibSp  \\\n",
       "0                              Braund, Mr. Owen Harris    male  22.0      1   \n",
       "1    Cumings, Mrs. John Bradley (Florence Briggs Th...  female  38.0      1   \n",
       "2                               Heikkinen, Miss. Laina  female  26.0      0   \n",
       "3         Futrelle, Mrs. Jacques Heath (Lily May Peel)  female  35.0      1   \n",
       "4                             Allen, Mr. William Henry    male  35.0      0   \n",
       "..                                                 ...     ...   ...    ...   \n",
       "886                              Montvila, Rev. Juozas    male  27.0      0   \n",
       "887                       Graham, Miss. Margaret Edith  female  19.0      0   \n",
       "888           Johnston, Miss. Catherine Helen \"Carrie\"  female   NaN      1   \n",
       "889                              Behr, Mr. Karl Howell    male  26.0      0   \n",
       "890                                Dooley, Mr. Patrick    male  32.0      0   \n",
       "\n",
       "     Parch            Ticket     Fare Cabin Embarked  Title  \n",
       "0        0         A/5 21171   7.2500   NaN        S     Mr  \n",
       "1        0          PC 17599  71.2833   C85        C    Mrs  \n",
       "2        0  STON/O2. 3101282   7.9250   NaN        S   Miss  \n",
       "3        0            113803  53.1000  C123        S    Mrs  \n",
       "4        0            373450   8.0500   NaN        S     Mr  \n",
       "..     ...               ...      ...   ...      ...    ...  \n",
       "886      0            211536  13.0000   NaN        S  Other  \n",
       "887      0            112053  30.0000   B42        S   Miss  \n",
       "888      2        W./C. 6607  23.4500   NaN        S   Miss  \n",
       "889      0            111369  30.0000  C148        C     Mr  \n",
       "890      0            370376   7.7500   NaN        Q     Mr  \n",
       "\n",
       "[891 rows x 13 columns]"
      ]
     },
     "execution_count": 9,
     "metadata": {},
     "output_type": "execute_result"
    }
   ],
   "source": [
    "# your code here\n",
    "df_counts=titanic['Title'].value_counts()\n",
    "proper_titles = set(df_counts.where(df_counts>6).dropna().index)\n",
    "\n",
    "def f(x):\n",
    "    if x['Title'] in proper_titles:\n",
    "        return x['Title']\n",
    "    return 'Other'\n",
    "\n",
    "titanic['Title'] = titanic.apply(f, axis=1)\n",
    "titanic"
   ]
  },
  {
   "cell_type": "code",
   "execution_count": 10,
   "metadata": {
    "deletable": false,
    "editable": false,
    "nbgrader": {
     "cell_type": "code",
     "checksum": "0de2453275696bdb86f7473ccdb3a0cb",
     "grade": true,
     "grade_id": "cell-7198654d5aa00053",
     "locked": true,
     "points": 1,
     "schema_version": 3,
     "solution": false,
     "task": false
    }
   },
   "outputs": [
    {
     "name": "stdout",
     "output_type": "stream",
     "text": [
      "{'Dr', 'Miss', 'Mrs', 'Master', 'Mr'}\n",
      "\n",
      "Mr        517\n",
      "Miss      182\n",
      "Mrs       125\n",
      "Master     40\n",
      "Other      20\n",
      "Dr          7\n",
      "Name: Title, dtype: int64\n"
     ]
    }
   ],
   "source": [
    "print(proper_titles)\n",
    "print()\n",
    "print(titanic.Title.value_counts())\n",
    "\n",
    "assert titanic.Title.value_counts().shape[0] == 6\n",
    "assert sum(titanic.Title == 'Other') == 20\n",
    "CORRECT_proper_titles = ['Mr', 'Miss', 'Mrs', 'Master', 'Dr']\n",
    "for p in CORRECT_proper_titles:\n",
    "    assert p in proper_titles, 'Title {} is expected to be in the list of proper titles'.format(p)"
   ]
  },
  {
   "cell_type": "markdown",
   "metadata": {
    "colab_type": "text",
    "deletable": false,
    "editable": false,
    "id": "W-Qq4H5oADeH",
    "nbgrader": {
     "cell_type": "markdown",
     "checksum": "b01f130ce357a8c785deb3e9efd973c1",
     "grade": false,
     "grade_id": "cell-ddab173c45e06018",
     "locked": true,
     "schema_version": 3,
     "solution": false,
     "task": false
    }
   },
   "source": [
    "---\n",
    "<a class=\"anchor\" id=\"task3\"></a>\n",
    "**Task 3** [1 pt] Obtain the list of all the categorical columns (columns with data type `object`). Name this list `categ_columns`."
   ]
  },
  {
   "cell_type": "code",
   "execution_count": 11,
   "metadata": {
    "colab": {
     "base_uri": "https://localhost:8080/",
     "height": 34
    },
    "colab_type": "code",
    "deletable": false,
    "executionInfo": {
     "elapsed": 859,
     "status": "ok",
     "timestamp": 1588936163340,
     "user": {
      "displayName": "Anna Kuzina",
      "photoUrl": "https://lh3.googleusercontent.com/a-/AOh14GiemaXGZADupTQf2gOFyfVMKD8BYzFXipMt2krfaeg=s64",
      "userId": "14976976853760262600"
     },
     "user_tz": -180
    },
    "id": "7zFhkTUf-neq",
    "nbgrader": {
     "cell_type": "code",
     "checksum": "2ad6243175be4379eaa89bca7c2dc0a1",
     "grade": false,
     "grade_id": "cell-9c53839214569788",
     "locked": false,
     "schema_version": 3,
     "solution": true,
     "task": false
    },
    "outputId": "d30186ab-f6cb-42f6-85ef-738e67b7954c"
   },
   "outputs": [],
   "source": [
    "# your code here\n",
    "titanic.columns\n",
    "categ_columns = ['Name','Title','Sex','Ticket','Cabin','Embarked']"
   ]
  },
  {
   "cell_type": "code",
   "execution_count": 12,
   "metadata": {
    "deletable": false,
    "editable": false,
    "nbgrader": {
     "cell_type": "code",
     "checksum": "fd61442e9fa2b50971f9a3685f105c68",
     "grade": true,
     "grade_id": "cell-5242f229019f70a9",
     "locked": true,
     "points": 1,
     "schema_version": 3,
     "solution": false,
     "task": false
    }
   },
   "outputs": [
    {
     "name": "stdout",
     "output_type": "stream",
     "text": [
      "['Name', 'Title', 'Sex', 'Ticket', 'Cabin', 'Embarked']\n"
     ]
    }
   ],
   "source": [
    "print(categ_columns)\n",
    "\n",
    "assert 'Title' in categ_columns, 'Columns `Title` not in the list'\n",
    "assert 'Name' in categ_columns, 'Columns `Name` not in the list'\n",
    "assert 'Sex' in categ_columns, 'Columns `Sex` not in the list'\n",
    "assert 'Ticket' in categ_columns, 'Columns `Ticket` not in the list'\n",
    "assert 'Cabin' in categ_columns, 'Columns `Cabin` not in the list'\n",
    "assert 'Embarked' in categ_columns, 'Columns `Embarked` not in the list'"
   ]
  },
  {
   "cell_type": "markdown",
   "metadata": {
    "deletable": false,
    "editable": false,
    "nbgrader": {
     "cell_type": "markdown",
     "checksum": "56c2f67551366e0e8c91ac64d42a7a9c",
     "grade": false,
     "grade_id": "cell-d43470d598f11ad2",
     "locked": true,
     "schema_version": 3,
     "solution": false,
     "task": false
    }
   },
   "source": [
    "Let us explore these categorical features in more details. We will use method `describe` to obtain some statistics about them. "
   ]
  },
  {
   "cell_type": "code",
   "execution_count": 13,
   "metadata": {
    "deletable": false,
    "editable": false,
    "nbgrader": {
     "cell_type": "code",
     "checksum": "85ce8faa49c342101587efc09e623adf",
     "grade": false,
     "grade_id": "cell-061f497fa0776872",
     "locked": true,
     "schema_version": 3,
     "solution": false,
     "task": false
    }
   },
   "outputs": [
    {
     "data": {
      "text/html": [
       "<div>\n",
       "<style scoped>\n",
       "    .dataframe tbody tr th:only-of-type {\n",
       "        vertical-align: middle;\n",
       "    }\n",
       "\n",
       "    .dataframe tbody tr th {\n",
       "        vertical-align: top;\n",
       "    }\n",
       "\n",
       "    .dataframe thead th {\n",
       "        text-align: right;\n",
       "    }\n",
       "</style>\n",
       "<table border=\"1\" class=\"dataframe\">\n",
       "  <thead>\n",
       "    <tr style=\"text-align: right;\">\n",
       "      <th></th>\n",
       "      <th>Name</th>\n",
       "      <th>Title</th>\n",
       "      <th>Sex</th>\n",
       "      <th>Ticket</th>\n",
       "      <th>Cabin</th>\n",
       "      <th>Embarked</th>\n",
       "    </tr>\n",
       "  </thead>\n",
       "  <tbody>\n",
       "    <tr>\n",
       "      <th>count</th>\n",
       "      <td>891</td>\n",
       "      <td>891</td>\n",
       "      <td>891</td>\n",
       "      <td>891</td>\n",
       "      <td>204</td>\n",
       "      <td>889</td>\n",
       "    </tr>\n",
       "    <tr>\n",
       "      <th>unique</th>\n",
       "      <td>891</td>\n",
       "      <td>6</td>\n",
       "      <td>2</td>\n",
       "      <td>681</td>\n",
       "      <td>147</td>\n",
       "      <td>3</td>\n",
       "    </tr>\n",
       "    <tr>\n",
       "      <th>top</th>\n",
       "      <td>Ilmakangas, Miss. Pieta Sofia</td>\n",
       "      <td>Mr</td>\n",
       "      <td>male</td>\n",
       "      <td>1601</td>\n",
       "      <td>C23 C25 C27</td>\n",
       "      <td>S</td>\n",
       "    </tr>\n",
       "    <tr>\n",
       "      <th>freq</th>\n",
       "      <td>1</td>\n",
       "      <td>517</td>\n",
       "      <td>577</td>\n",
       "      <td>7</td>\n",
       "      <td>4</td>\n",
       "      <td>644</td>\n",
       "    </tr>\n",
       "  </tbody>\n",
       "</table>\n",
       "</div>"
      ],
      "text/plain": [
       "                                 Name Title   Sex Ticket        Cabin Embarked\n",
       "count                             891   891   891    891          204      889\n",
       "unique                            891     6     2    681          147        3\n",
       "top     Ilmakangas, Miss. Pieta Sofia    Mr  male   1601  C23 C25 C27        S\n",
       "freq                                1   517   577      7            4      644"
      ]
     },
     "execution_count": 13,
     "metadata": {},
     "output_type": "execute_result"
    }
   ],
   "source": [
    "titanic[categ_columns].describe(include='object')"
   ]
  },
  {
   "cell_type": "markdown",
   "metadata": {
    "deletable": false,
    "editable": false,
    "nbgrader": {
     "cell_type": "markdown",
     "checksum": "d5ed9d8c2f7e24c1829ad0fa6bd73f89",
     "grade": false,
     "grade_id": "cell-f56de32d30029803",
     "locked": true,
     "schema_version": 3,
     "solution": false,
     "task": false
    }
   },
   "source": [
    "Sometimes, categorical columns contain too many unique values, which do not have a lot of information about the task we are solving. There are cases, when it is possible to extract some useful details from such variables (as we just did with the `Name`). But if you can't it might be better to drop such variable. \n",
    "\n",
    "\n",
    "---\n",
    "<a class=\"anchor\" id=\"task4\"></a>\n",
    "**Task 4** [1 pt] Remove all the categorical features, which have more than 100 unique values. \n",
    "\n",
    "P.S. Remove the corresponding columns from the dataframe `titanic` and unpdate list of categorical feature `categ_columns` to contain only categorical features that are left. "
   ]
  },
  {
   "cell_type": "code",
   "execution_count": 14,
   "metadata": {
    "deletable": false,
    "nbgrader": {
     "cell_type": "code",
     "checksum": "79cdfa052d730a6c1afc304e37b27a8a",
     "grade": false,
     "grade_id": "cell-2d21a7cb77daf9b6",
     "locked": false,
     "schema_version": 3,
     "solution": true,
     "task": false
    }
   },
   "outputs": [],
   "source": [
    "# your code here\n",
    "s1=titanic[categ_columns].describe(include='object').T\n",
    "unique_names=s1.where(s1.unique<=100)\n",
    "categ_columns = set(unique_names.unique.dropna().index)\n",
    "titanic = titanic.drop(['Cabin','Ticket','Name'],axis=1)\n",
    "\n",
    "\n",
    "\n"
   ]
  },
  {
   "cell_type": "code",
   "execution_count": null,
   "metadata": {},
   "outputs": [],
   "source": [
    "\n"
   ]
  },
  {
   "cell_type": "code",
   "execution_count": 15,
   "metadata": {
    "deletable": false,
    "editable": false,
    "nbgrader": {
     "cell_type": "code",
     "checksum": "9aa1ab5b820e3cfebe143e927e19d2fc",
     "grade": true,
     "grade_id": "cell-71c524a3b5756bce",
     "locked": true,
     "points": 1,
     "schema_version": 3,
     "solution": false,
     "task": false
    }
   },
   "outputs": [
    {
     "name": "stdout",
     "output_type": "stream",
     "text": [
      "{'Title', 'Embarked', 'Sex'}\n"
     ]
    }
   ],
   "source": [
    "print(categ_columns)\n",
    "\n",
    "titanic[categ_columns].head()\n",
    "\n",
    "CORRECT_categ = set(['Sex', 'Embarked', 'Title'])\n",
    "diff = list(CORRECT_categ - set(categ_columns))\n",
    "assert len(diff) == 0, '`categ_columns` is missing columns'\n",
    "diff = list(set(categ_columns) - CORRECT_categ)\n",
    "assert len(diff) == 0, '`categ_columns` has too amny columns'   "
   ]
  },
  {
   "cell_type": "markdown",
   "metadata": {
    "deletable": false,
    "editable": false,
    "nbgrader": {
     "cell_type": "markdown",
     "checksum": "17a50fabbe239e380ffeee2b17548a6b",
     "grade": false,
     "grade_id": "cell-8351e787208feef7",
     "locked": true,
     "schema_version": 3,
     "solution": false,
     "task": false
    }
   },
   "source": [
    "Let's consider distribution of all the categorical features now\n",
    "\n",
    "---\n",
    "<a class=\"anchor\" id=\"task5\"></a>\n",
    "**Task 5** [Peer Reviewed] For each categorical feature draw two bar plots side by side. On the first plot, height of the bar should depict number of passengers in each category, while on the second, height of the bar should depict propostion of survived passengers in the category. "
   ]
  },
  {
   "cell_type": "code",
   "execution_count": 16,
   "metadata": {},
   "outputs": [
    {
     "data": {
      "text/plain": [
       "female    233\n",
       "male      109\n",
       "Name: Sex, dtype: int64"
      ]
     },
     "metadata": {},
     "output_type": "display_data"
    },
    {
     "data": {
      "text/plain": [
       "female    314\n",
       "male      577\n",
       "Name: Sex, dtype: int64"
      ]
     },
     "metadata": {},
     "output_type": "display_data"
    }
   ],
   "source": [
    "display(titanic[titanic['Survived'] == 1].Sex.value_counts().sort_index())\n",
    "display(titanic.Sex.value_counts().sort_index())"
   ]
  },
  {
   "cell_type": "code",
   "execution_count": 17,
   "metadata": {
    "deletable": false,
    "nbgrader": {
     "cell_type": "code",
     "checksum": "e969d354886b7e90cf3072db5b64aac3",
     "grade": false,
     "grade_id": "cell-090a99b82541ea3f",
     "locked": false,
     "schema_version": 3,
     "solution": true,
     "task": false
    }
   },
   "outputs": [
    {
     "data": {
      "image/png": "[encoded data removed]",
      "text/plain": [
       "<Figure size 432x288 with 2 Axes>"
      ]
     },
     "metadata": {
      "needs_background": "light"
     },
     "output_type": "display_data"
    }
   ],
   "source": [
    "# your code here\n",
    "plt.subplot(1, 2, 1)\n",
    "titanic.Embarked.value_counts().plot(kind='bar')\n",
    "plt.grid()\n",
    "plt.title('Embarked');\n",
    "plt.ylabel('Num.passengers')\n",
    "\n",
    "plt.subplot(1, 2, 2)\n",
    "(titanic[titanic['Survived'] == 1].Embarked.value_counts() / titanic.Embarked.value_counts()).plot(kind='bar')\n",
    "plt.grid()\n",
    "#plt.title('Embarked');\n",
    "plt.ylabel('Prop.Survived')\n",
    "\n",
    "plt.tight_layout()"
   ]
  },
  {
   "cell_type": "code",
   "execution_count": 18,
   "metadata": {},
   "outputs": [
    {
     "data": {
      "image/png": "[encoded data removed]",
      "text/plain": [
       "<Figure size 432x288 with 2 Axes>"
      ]
     },
     "metadata": {
      "needs_background": "light"
     },
     "output_type": "display_data"
    }
   ],
   "source": [
    "plt.subplot(1, 2, 1)\n",
    "titanic.Sex.value_counts().plot(kind='bar')\n",
    "plt.grid()\n",
    "plt.title('Sex');\n",
    "plt.ylabel('Num.passengers')\n",
    "\n",
    "plt.subplot(1, 2, 2)\n",
    "(titanic[titanic['Survived'] == 1].Sex.value_counts().sort_index() / titanic.Sex.value_counts().sort_index()).plot(kind='bar')\n",
    "plt.grid()\n",
    "#plt.title('Embarked');\n",
    "plt.ylabel('Prop.Survived')\n",
    "\n",
    "plt.tight_layout()"
   ]
  },
  {
   "cell_type": "code",
   "execution_count": 19,
   "metadata": {},
   "outputs": [
    {
     "data": {
      "image/png": "[encoded data removed]",
      "text/plain": [
       "<Figure size 432x288 with 2 Axes>"
      ]
     },
     "metadata": {
      "needs_background": "light"
     },
     "output_type": "display_data"
    }
   ],
   "source": [
    "plt.subplot(1, 2, 1)\n",
    "titanic.Title.value_counts().plot(kind='bar')\n",
    "plt.grid()\n",
    "plt.title('Title',loc='Right');\n",
    "plt.ylabel('Num.passengers')\n",
    "\n",
    "plt.subplot(1, 2, 2)\n",
    "(titanic[titanic['Survived'] == 1].Title.value_counts().sort_index() / titanic.Title.value_counts().sort_index()).plot(kind='bar')\n",
    "plt.grid()\n",
    "plt.ylabel('Prop.Survived')\n",
    "\n",
    "plt.tight_layout()"
   ]
  },
  {
   "cell_type": "markdown",
   "metadata": {
    "deletable": false,
    "editable": false,
    "nbgrader": {
     "cell_type": "markdown",
     "checksum": "b5d0c0106332fd5c13e38f806e080d6c",
     "grade": false,
     "grade_id": "cell-fae416b5f5ae6408",
     "locked": true,
     "schema_version": 3,
     "solution": false,
     "task": false
    }
   },
   "source": [
    "**Peer Review Grading.** Below you can find the correct plots for this task. Please, compare them to the plots produced by the code above. Please, do not pay attention to the order in which graphs are ploted.\n",
    "\n",
    "<img src=\"correct_plot_Embarked.png\" width=600 height=600 />\n",
    "<img src=\"correct_plot_Sex.png\" width=600 height=600 />\n",
    "<img src=\"correct_plot_Title.png\" width=600 height=600 />"
   ]
  },
  {
   "cell_type": "markdown",
   "metadata": {
    "deletable": false,
    "editable": false,
    "nbgrader": {
     "cell_type": "markdown",
     "checksum": "6b05828e2d3cd65cfffa095482de29be",
     "grade": false,
     "grade_id": "cell-7f0b8ac91af2ffb1",
     "locked": true,
     "schema_version": 3,
     "solution": false,
     "task": false
    }
   },
   "source": [
    "---\n",
    "## 1.3 Ordical and Numeric Features <a class=\"anchor\" id=\"rest_features\"></a>\n",
    "\n",
    "Now consider the rest of the dataset. Below you can see the first few observations from all the non-categorical features."
   ]
  },
  {
   "cell_type": "code",
   "execution_count": 20,
   "metadata": {},
   "outputs": [
    {
     "data": {
      "text/html": [
       "<div>\n",
       "<style scoped>\n",
       "    .dataframe tbody tr th:only-of-type {\n",
       "        vertical-align: middle;\n",
       "    }\n",
       "\n",
       "    .dataframe tbody tr th {\n",
       "        vertical-align: top;\n",
       "    }\n",
       "\n",
       "    .dataframe thead th {\n",
       "        text-align: right;\n",
       "    }\n",
       "</style>\n",
       "<table border=\"1\" class=\"dataframe\">\n",
       "  <thead>\n",
       "    <tr style=\"text-align: right;\">\n",
       "      <th></th>\n",
       "      <th>PassengerId</th>\n",
       "      <th>Pclass</th>\n",
       "      <th>Age</th>\n",
       "      <th>SibSp</th>\n",
       "      <th>Parch</th>\n",
       "      <th>Fare</th>\n",
       "    </tr>\n",
       "  </thead>\n",
       "  <tbody>\n",
       "    <tr>\n",
       "      <th>0</th>\n",
       "      <td>1</td>\n",
       "      <td>3</td>\n",
       "      <td>22.0</td>\n",
       "      <td>1</td>\n",
       "      <td>0</td>\n",
       "      <td>7.2500</td>\n",
       "    </tr>\n",
       "    <tr>\n",
       "      <th>1</th>\n",
       "      <td>2</td>\n",
       "      <td>1</td>\n",
       "      <td>38.0</td>\n",
       "      <td>1</td>\n",
       "      <td>0</td>\n",
       "      <td>71.2833</td>\n",
       "    </tr>\n",
       "    <tr>\n",
       "      <th>2</th>\n",
       "      <td>3</td>\n",
       "      <td>3</td>\n",
       "      <td>26.0</td>\n",
       "      <td>0</td>\n",
       "      <td>0</td>\n",
       "      <td>7.9250</td>\n",
       "    </tr>\n",
       "    <tr>\n",
       "      <th>3</th>\n",
       "      <td>4</td>\n",
       "      <td>1</td>\n",
       "      <td>35.0</td>\n",
       "      <td>1</td>\n",
       "      <td>0</td>\n",
       "      <td>53.1000</td>\n",
       "    </tr>\n",
       "    <tr>\n",
       "      <th>4</th>\n",
       "      <td>5</td>\n",
       "      <td>3</td>\n",
       "      <td>35.0</td>\n",
       "      <td>0</td>\n",
       "      <td>0</td>\n",
       "      <td>8.0500</td>\n",
       "    </tr>\n",
       "  </tbody>\n",
       "</table>\n",
       "</div>"
      ],
      "text/plain": [
       "   PassengerId  Pclass   Age  SibSp  Parch     Fare\n",
       "0            1       3  22.0      1      0   7.2500\n",
       "1            2       1  38.0      1      0  71.2833\n",
       "2            3       3  26.0      0      0   7.9250\n",
       "3            4       1  35.0      1      0  53.1000\n",
       "4            5       3  35.0      0      0   8.0500"
      ]
     },
     "execution_count": 20,
     "metadata": {},
     "output_type": "execute_result"
    }
   ],
   "source": [
    "titanic[[c for c in titanic.columns if c not in list(categ_columns) + ['Survived']]].head()"
   ]
  },
  {
   "cell_type": "markdown",
   "metadata": {
    "colab_type": "text",
    "deletable": false,
    "editable": false,
    "id": "S0VBjAXLE8i_",
    "nbgrader": {
     "cell_type": "markdown",
     "checksum": "bc89db7e21158ec38c7f358f03acd28a",
     "grade": false,
     "grade_id": "cell-05fd8fc062a95bf9",
     "locked": true,
     "schema_version": 3,
     "solution": false,
     "task": false
    }
   },
   "source": [
    "---\n",
    "<a class=\"anchor\" id=\"task6\"></a>\n",
    "**Task 6** [Peer graded] We suggest removing the feature `PassengerID` from the dataset. Please do it below and write your comment on why this is a resonalbe thing to do. "
   ]
  },
  {
   "cell_type": "code",
   "execution_count": 21,
   "metadata": {
    "deletable": false,
    "nbgrader": {
     "cell_type": "code",
     "checksum": "97fbe9cc58f3e15b94a6b26209a42a81",
     "grade": false,
     "grade_id": "cell-42648579773c6948",
     "locked": false,
     "schema_version": 3,
     "solution": true,
     "task": false
    }
   },
   "outputs": [],
   "source": [
    "# your code here\n",
    "titanic=titanic.drop('PassengerId', axis = 1)"
   ]
  },
  {
   "cell_type": "markdown",
   "metadata": {},
   "source": [
    "```Your comment here```\n",
    "Column with PassengerId does not contain any valuable information, just a count number of the passenger in alphabetic order. This column contains a lot of unique values which we can't compare."
   ]
  },
  {
   "cell_type": "code",
   "execution_count": 22,
   "metadata": {
    "deletable": false,
    "editable": false,
    "nbgrader": {
     "cell_type": "code",
     "checksum": "685334fb067173dbd9a00c4afd15cc03",
     "grade": true,
     "grade_id": "cell-7d561bb892a04130",
     "locked": true,
     "points": 0,
     "schema_version": 3,
     "solution": false,
     "task": false
    }
   },
   "outputs": [],
   "source": [
    "assert 'PassengerId' not in titanic.columns"
   ]
  },
  {
   "cell_type": "markdown",
   "metadata": {
    "deletable": false,
    "editable": false,
    "nbgrader": {
     "cell_type": "markdown",
     "checksum": "928ff91f2c10ac22cce88b3c197390d6",
     "grade": false,
     "grade_id": "cell-7f0885ecf3fb9ff9",
     "locked": true,
     "schema_version": 3,
     "solution": false,
     "task": false
    }
   },
   "source": [
    "**Peer Review Grading.** Please read the comment above and check the validity of the arguments"
   ]
  },
  {
   "cell_type": "markdown",
   "metadata": {
    "deletable": false,
    "editable": false,
    "nbgrader": {
     "cell_type": "markdown",
     "checksum": "faa030b4ddd558b778bf33ecde2b1b51",
     "grade": false,
     "grade_id": "cell-ff19344ea51e30dc",
     "locked": true,
     "schema_version": 3,
     "solution": false,
     "task": false
    }
   },
   "source": [
    "---\n",
    "Consider two columns: `SibSp` and `Parch`. The first one is responsibel for number of Siblings/Spouses aboard the Titanic for the given passenger. The second one - number of parents/childer aboard the Titanic. Note that we can create one variable `FamilySize` out of these two. \n",
    "\n",
    "<a class=\"anchor\" id=\"task7\"></a>\n",
    "**Task 7** [1 pt] Create a variable `FamilySize` as a total size of the passenger's family aboard. Remove columns `SibSp` and `Parch` from the dataset afterwards. "
   ]
  },
  {
   "cell_type": "code",
   "execution_count": 23,
   "metadata": {
    "deletable": false,
    "nbgrader": {
     "cell_type": "code",
     "checksum": "ae1c60433e0417b1648277280ddc6140",
     "grade": false,
     "grade_id": "cell-d93f717ddc47d367",
     "locked": false,
     "schema_version": 3,
     "solution": true,
     "task": false
    }
   },
   "outputs": [
    {
     "data": {
      "text/plain": [
       "<bound method NDFrame.head of      Survived  Pclass     Sex   Age     Fare Embarked  Title  FamilySize\n",
       "0           0       3    male  22.0   7.2500        S     Mr           1\n",
       "1           1       1  female  38.0  71.2833        C    Mrs           1\n",
       "2           1       3  female  26.0   7.9250        S   Miss           0\n",
       "3           1       1  female  35.0  53.1000        S    Mrs           1\n",
       "4           0       3    male  35.0   8.0500        S     Mr           0\n",
       "..        ...     ...     ...   ...      ...      ...    ...         ...\n",
       "886         0       2    male  27.0  13.0000        S  Other           0\n",
       "887         1       1  female  19.0  30.0000        S   Miss           0\n",
       "888         0       3  female   NaN  23.4500        S   Miss           3\n",
       "889         1       1    male  26.0  30.0000        C     Mr           0\n",
       "890         0       3    male  32.0   7.7500        Q     Mr           0\n",
       "\n",
       "[891 rows x 8 columns]>"
      ]
     },
     "execution_count": 23,
     "metadata": {},
     "output_type": "execute_result"
    }
   ],
   "source": [
    "# your code here\n",
    "titanic['FamilySize']=titanic['SibSp']+titanic['Parch']\n",
    "titanic = titanic.drop('SibSp', axis = 1)\n",
    "titanic = titanic.drop('Parch', axis = 1)\n",
    "titanic.head"
   ]
  },
  {
   "cell_type": "code",
   "execution_count": 24,
   "metadata": {
    "deletable": false,
    "editable": false,
    "nbgrader": {
     "cell_type": "code",
     "checksum": "80e28125896108cb13a7d8d9c78cad02",
     "grade": true,
     "grade_id": "cell-1511c808b2ea4da4",
     "locked": true,
     "points": 1,
     "schema_version": 3,
     "solution": false,
     "task": false
    }
   },
   "outputs": [
    {
     "data": {
      "image/png": "[encoded data removed]",
      "text/plain": [
       "<Figure size 432x288 with 1 Axes>"
      ]
     },
     "metadata": {
      "needs_background": "light"
     },
     "output_type": "display_data"
    }
   ],
   "source": [
    "titanic.FamilySize.value_counts().sort_index().plot(kind='bar')\n",
    "plt.title('Family Size')\n",
    "plt.grid()\n",
    "\n",
    "assert 'SibSp' not in titanic.columns\n",
    "assert 'Parch' not in titanic.columns\n",
    "assert sum(titanic.FamilySize == 0) == 537\n",
    "assert sum(titanic.FamilySize == 10) == 7"
   ]
  },
  {
   "cell_type": "markdown",
   "metadata": {
    "deletable": false,
    "editable": false,
    "nbgrader": {
     "cell_type": "markdown",
     "checksum": "3698db6988f8d66d5f08a82bdc0bb270",
     "grade": false,
     "grade_id": "cell-f42e8dedc8e82c64",
     "locked": true,
     "schema_version": 3,
     "solution": false,
     "task": false
    }
   },
   "source": [
    "---\n",
    "Let us work with the variable `FamilySize` even further. Turns out, that sometimes it is reasonable to convert numerical feature into ordinal ones. E.g. instead of having a family size we can group peopple into `single`, `small_family`, etc. In this manner we can enforce larger distinction between people who do not have family at all and those who have small families. At the same time we can say that for the sake of our application we do not need to distiguish family of size 1 from the family of size 2. \n",
    "\n",
    "<a class=\"anchor\" id=\"task8\"></a>\n",
    "**Task 8** [Peer Graded]. Plot the bar plot for the variable `FamilySize` where the height of the bar is determined by the proportion of the survived passengers. Based on the created plot split all the passengers into tree groups. For each group create a binary variable `FamilySize_1`, `FamilySize_2` and `FamilySize_3`. Justify the split that you've chosen."
   ]
  },
  {
   "cell_type": "code",
   "execution_count": 25,
   "metadata": {
    "deletable": false,
    "nbgrader": {
     "cell_type": "code",
     "checksum": "f834da150645a3afdd0f1dda80d20705",
     "grade": false,
     "grade_id": "cell-4d78b5bcd190dec1",
     "locked": false,
     "schema_version": 3,
     "solution": true,
     "task": false
    }
   },
   "outputs": [
    {
     "data": {
      "text/plain": [
       "Text(0, 0.5, 'Prop.Survived')"
      ]
     },
     "execution_count": 25,
     "metadata": {},
     "output_type": "execute_result"
    },
    {
     "data": {
      "image/png": "[encoded data removed]",
      "text/plain": [
       "<Figure size 432x288 with 1 Axes>"
      ]
     },
     "metadata": {
      "needs_background": "light"
     },
     "output_type": "display_data"
    }
   ],
   "source": [
    "# your code here\n",
    "plt.subplot(1, 2, 2)\n",
    "(titanic[titanic['Survived'] == 1].FamilySize.value_counts().sort_index() / titanic.FamilySize.value_counts().sort_index()).plot(kind='bar')\n",
    "plt.grid()\n",
    "plt.ylabel('Prop.Survived')\n",
    "\n"
   ]
  },
  {
   "cell_type": "code",
   "execution_count": 26,
   "metadata": {},
   "outputs": [],
   "source": [
    "def familysize1(x):\n",
    "    if x.FamilySize==0:\n",
    "        return 1\n",
    "\n",
    "def familysize2(x):\n",
    "    if x.FamilySize in [1,2,3]:\n",
    "        return 1\n",
    "    \n",
    "def familysize3(x):\n",
    "    if x.FamilySize>3:\n",
    "        return 1"
   ]
  },
  {
   "cell_type": "code",
   "execution_count": 27,
   "metadata": {},
   "outputs": [
    {
     "data": {
      "text/html": [
       "<div>\n",
       "<style scoped>\n",
       "    .dataframe tbody tr th:only-of-type {\n",
       "        vertical-align: middle;\n",
       "    }\n",
       "\n",
       "    .dataframe tbody tr th {\n",
       "        vertical-align: top;\n",
       "    }\n",
       "\n",
       "    .dataframe thead th {\n",
       "        text-align: right;\n",
       "    }\n",
       "</style>\n",
       "<table border=\"1\" class=\"dataframe\">\n",
       "  <thead>\n",
       "    <tr style=\"text-align: right;\">\n",
       "      <th></th>\n",
       "      <th>Survived</th>\n",
       "      <th>Pclass</th>\n",
       "      <th>Sex</th>\n",
       "      <th>Age</th>\n",
       "      <th>Fare</th>\n",
       "      <th>Embarked</th>\n",
       "      <th>Title</th>\n",
       "      <th>FamilySize</th>\n",
       "      <th>FamilySize_1</th>\n",
       "      <th>FamilySize_2</th>\n",
       "      <th>FamilySize_3</th>\n",
       "    </tr>\n",
       "  </thead>\n",
       "  <tbody>\n",
       "    <tr>\n",
       "      <th>0</th>\n",
       "      <td>0</td>\n",
       "      <td>3</td>\n",
       "      <td>male</td>\n",
       "      <td>22.0</td>\n",
       "      <td>7.2500</td>\n",
       "      <td>S</td>\n",
       "      <td>Mr</td>\n",
       "      <td>1</td>\n",
       "      <td>0.0</td>\n",
       "      <td>1.0</td>\n",
       "      <td>0.0</td>\n",
       "    </tr>\n",
       "    <tr>\n",
       "      <th>1</th>\n",
       "      <td>1</td>\n",
       "      <td>1</td>\n",
       "      <td>female</td>\n",
       "      <td>38.0</td>\n",
       "      <td>71.2833</td>\n",
       "      <td>C</td>\n",
       "      <td>Mrs</td>\n",
       "      <td>1</td>\n",
       "      <td>0.0</td>\n",
       "      <td>1.0</td>\n",
       "      <td>0.0</td>\n",
       "    </tr>\n",
       "    <tr>\n",
       "      <th>2</th>\n",
       "      <td>1</td>\n",
       "      <td>3</td>\n",
       "      <td>female</td>\n",
       "      <td>26.0</td>\n",
       "      <td>7.9250</td>\n",
       "      <td>S</td>\n",
       "      <td>Miss</td>\n",
       "      <td>0</td>\n",
       "      <td>1.0</td>\n",
       "      <td>0.0</td>\n",
       "      <td>0.0</td>\n",
       "    </tr>\n",
       "    <tr>\n",
       "      <th>3</th>\n",
       "      <td>1</td>\n",
       "      <td>1</td>\n",
       "      <td>female</td>\n",
       "      <td>35.0</td>\n",
       "      <td>53.1000</td>\n",
       "      <td>S</td>\n",
       "      <td>Mrs</td>\n",
       "      <td>1</td>\n",
       "      <td>0.0</td>\n",
       "      <td>1.0</td>\n",
       "      <td>0.0</td>\n",
       "    </tr>\n",
       "    <tr>\n",
       "      <th>4</th>\n",
       "      <td>0</td>\n",
       "      <td>3</td>\n",
       "      <td>male</td>\n",
       "      <td>35.0</td>\n",
       "      <td>8.0500</td>\n",
       "      <td>S</td>\n",
       "      <td>Mr</td>\n",
       "      <td>0</td>\n",
       "      <td>1.0</td>\n",
       "      <td>0.0</td>\n",
       "      <td>0.0</td>\n",
       "    </tr>\n",
       "    <tr>\n",
       "      <th>...</th>\n",
       "      <td>...</td>\n",
       "      <td>...</td>\n",
       "      <td>...</td>\n",
       "      <td>...</td>\n",
       "      <td>...</td>\n",
       "      <td>...</td>\n",
       "      <td>...</td>\n",
       "      <td>...</td>\n",
       "      <td>...</td>\n",
       "      <td>...</td>\n",
       "      <td>...</td>\n",
       "    </tr>\n",
       "    <tr>\n",
       "      <th>886</th>\n",
       "      <td>0</td>\n",
       "      <td>2</td>\n",
       "      <td>male</td>\n",
       "      <td>27.0</td>\n",
       "      <td>13.0000</td>\n",
       "      <td>S</td>\n",
       "      <td>Other</td>\n",
       "      <td>0</td>\n",
       "      <td>1.0</td>\n",
       "      <td>0.0</td>\n",
       "      <td>0.0</td>\n",
       "    </tr>\n",
       "    <tr>\n",
       "      <th>887</th>\n",
       "      <td>1</td>\n",
       "      <td>1</td>\n",
       "      <td>female</td>\n",
       "      <td>19.0</td>\n",
       "      <td>30.0000</td>\n",
       "      <td>S</td>\n",
       "      <td>Miss</td>\n",
       "      <td>0</td>\n",
       "      <td>1.0</td>\n",
       "      <td>0.0</td>\n",
       "      <td>0.0</td>\n",
       "    </tr>\n",
       "    <tr>\n",
       "      <th>888</th>\n",
       "      <td>0</td>\n",
       "      <td>3</td>\n",
       "      <td>female</td>\n",
       "      <td>NaN</td>\n",
       "      <td>23.4500</td>\n",
       "      <td>S</td>\n",
       "      <td>Miss</td>\n",
       "      <td>3</td>\n",
       "      <td>0.0</td>\n",
       "      <td>1.0</td>\n",
       "      <td>0.0</td>\n",
       "    </tr>\n",
       "    <tr>\n",
       "      <th>889</th>\n",
       "      <td>1</td>\n",
       "      <td>1</td>\n",
       "      <td>male</td>\n",
       "      <td>26.0</td>\n",
       "      <td>30.0000</td>\n",
       "      <td>C</td>\n",
       "      <td>Mr</td>\n",
       "      <td>0</td>\n",
       "      <td>1.0</td>\n",
       "      <td>0.0</td>\n",
       "      <td>0.0</td>\n",
       "    </tr>\n",
       "    <tr>\n",
       "      <th>890</th>\n",
       "      <td>0</td>\n",
       "      <td>3</td>\n",
       "      <td>male</td>\n",
       "      <td>32.0</td>\n",
       "      <td>7.7500</td>\n",
       "      <td>Q</td>\n",
       "      <td>Mr</td>\n",
       "      <td>0</td>\n",
       "      <td>1.0</td>\n",
       "      <td>0.0</td>\n",
       "      <td>0.0</td>\n",
       "    </tr>\n",
       "  </tbody>\n",
       "</table>\n",
       "<p>891 rows × 11 columns</p>\n",
       "</div>"
      ],
      "text/plain": [
       "     Survived  Pclass     Sex   Age     Fare Embarked  Title  FamilySize  \\\n",
       "0           0       3    male  22.0   7.2500        S     Mr           1   \n",
       "1           1       1  female  38.0  71.2833        C    Mrs           1   \n",
       "2           1       3  female  26.0   7.9250        S   Miss           0   \n",
       "3           1       1  female  35.0  53.1000        S    Mrs           1   \n",
       "4           0       3    male  35.0   8.0500        S     Mr           0   \n",
       "..        ...     ...     ...   ...      ...      ...    ...         ...   \n",
       "886         0       2    male  27.0  13.0000        S  Other           0   \n",
       "887         1       1  female  19.0  30.0000        S   Miss           0   \n",
       "888         0       3  female   NaN  23.4500        S   Miss           3   \n",
       "889         1       1    male  26.0  30.0000        C     Mr           0   \n",
       "890         0       3    male  32.0   7.7500        Q     Mr           0   \n",
       "\n",
       "     FamilySize_1  FamilySize_2  FamilySize_3  \n",
       "0             0.0           1.0           0.0  \n",
       "1             0.0           1.0           0.0  \n",
       "2             1.0           0.0           0.0  \n",
       "3             0.0           1.0           0.0  \n",
       "4             1.0           0.0           0.0  \n",
       "..            ...           ...           ...  \n",
       "886           1.0           0.0           0.0  \n",
       "887           1.0           0.0           0.0  \n",
       "888           0.0           1.0           0.0  \n",
       "889           1.0           0.0           0.0  \n",
       "890           1.0           0.0           0.0  \n",
       "\n",
       "[891 rows x 11 columns]"
      ]
     },
     "execution_count": 27,
     "metadata": {},
     "output_type": "execute_result"
    }
   ],
   "source": [
    "titanic['FamilySize_1']=titanic.apply(familysize1, axis=1)\n",
    "titanic['FamilySize_1']=titanic['FamilySize_1'].fillna(0)\n",
    "titanic['FamilySize_2']=titanic.apply(familysize2, axis=1)\n",
    "titanic['FamilySize_2']=titanic['FamilySize_2'].fillna(0)\n",
    "titanic['FamilySize_3']=titanic.apply(familysize3, axis=1)\n",
    "titanic['FamilySize_3']=titanic['FamilySize_3'].fillna(0)\n",
    "titanic"
   ]
  },
  {
   "cell_type": "code",
   "execution_count": 28,
   "metadata": {
    "deletable": false,
    "editable": false,
    "nbgrader": {
     "cell_type": "code",
     "checksum": "cc9686a5d8f28b8015cbd17ed030a332",
     "grade": true,
     "grade_id": "cell-a45e239798cb5c68",
     "locked": true,
     "points": 0,
     "schema_version": 3,
     "solution": false,
     "task": false
    }
   },
   "outputs": [],
   "source": [
    "assert 'FamilySize_1' in titanic.columns\n",
    "assert 'FamilySize_2' in titanic.columns\n",
    "assert 'FamilySize_3' in titanic.columns\n",
    "assert titanic.FamilySize_1.sum() + titanic.FamilySize_2.sum() + titanic.FamilySize_3.sum() == 891\n",
    "assert titanic.FamilySize_1.sum() > 0\n",
    "assert titanic.FamilySize_2.sum() > 0\n",
    "assert titanic.FamilySize_3.sum() > 0"
   ]
  },
  {
   "cell_type": "code",
   "execution_count": null,
   "metadata": {},
   "outputs": [],
   "source": []
  },
  {
   "cell_type": "markdown",
   "metadata": {},
   "source": [
    "```your comment here```\n",
    "1.If we check the plot below, we can see that there's a big cluster of passengers with 1-3 family members, so it is reasonable to place them in same group. \n",
    "2.I'd like to make singles (familysize = 0) as a single group because to my mind being single at the sinking titanic might be benificial(we will check if it's so I hope). \n",
    "3.The third group will contain passengers with familysize=4-6."
   ]
  },
  {
   "cell_type": "markdown",
   "metadata": {
    "deletable": false,
    "editable": false,
    "nbgrader": {
     "cell_type": "markdown",
     "checksum": "cb9eb3433e847752521d1534449c1a21",
     "grade": false,
     "grade_id": "cell-b05e96d8c3045393",
     "locked": true,
     "schema_version": 3,
     "solution": false,
     "task": false
    }
   },
   "source": [
    "**Peer Review Grading.** Please check that the plot above is correct (below you can see the correct answer). Also read the comment about the way the passengers were split on the groupd and check that the splitting is reasonable.\n",
    "\n",
    "<img src=\"task8_corrrect.png\" width=400 height=400 />\n",
    "\n",
    "\n",
    "---\n",
    "\n",
    "Basically, we've just converted numerical feature `FamilySize` into categorical one with three categories. Moreover, we've simultaniously performed One-hot encoding of this categorical feature and obtained three binary variables. Now we can drop the feature `FamilySize` as it is not needed anymore."
   ]
  },
  {
   "cell_type": "code",
   "execution_count": 29,
   "metadata": {},
   "outputs": [],
   "source": [
    "titanic.drop(['FamilySize'], axis=1, inplace=True)"
   ]
  },
  {
   "cell_type": "markdown",
   "metadata": {
    "deletable": false,
    "editable": false,
    "nbgrader": {
     "cell_type": "markdown",
     "checksum": "f4cbdab376332b8e811d826aa13a4497",
     "grade": false,
     "grade_id": "cell-f0df55b128f58491",
     "locked": true,
     "schema_version": 3,
     "solution": false,
     "task": false
    }
   },
   "source": [
    "---\n",
    "<a class=\"anchor\" id=\"task9\"></a>\n",
    "**Task 9** [1 pt]. We have three features left unexplored. They are `Pclass`, `Age` and `Fare`. The frist one stands for the ticket class, second - for the age of the passenger and the fird one gives us price of the ticket. \n",
    "\n",
    "Please, create `ordinal_cols`, which will be list of all the ordinal columns (put there names of relevant columns) and `numeric_cols` - list with the names of the numeric columns. If there is no ordinal or numeric colums, make the corrisponding list empty."
   ]
  },
  {
   "cell_type": "code",
   "execution_count": 30,
   "metadata": {
    "deletable": false,
    "nbgrader": {
     "cell_type": "code",
     "checksum": "9a5e31e9fe9c0f452057525055946085",
     "grade": false,
     "grade_id": "cell-532a4f54cf51bb15",
     "locked": false,
     "schema_version": 3,
     "solution": true,
     "task": false
    }
   },
   "outputs": [],
   "source": [
    "# your code here\n",
    "ordinal_cols = ['Pclass']\n",
    "numeric_cols = ['Age','Fare']"
   ]
  },
  {
   "cell_type": "code",
   "execution_count": 31,
   "metadata": {
    "deletable": false,
    "editable": false,
    "nbgrader": {
     "cell_type": "code",
     "checksum": "45b4065159773365d88fe433a4e77bd5",
     "grade": true,
     "grade_id": "cell-ac29edf4d82e0459",
     "locked": true,
     "points": 1,
     "schema_version": 3,
     "solution": false,
     "task": false
    }
   },
   "outputs": [
    {
     "name": "stdout",
     "output_type": "stream",
     "text": [
      "Ordinal columns are:  ['Pclass']\n",
      "Numeric columns are:  ['Age', 'Fare']\n"
     ]
    }
   ],
   "source": [
    "print('Ordinal columns are: ', ordinal_cols)\n",
    "print('Numeric columns are: ', numeric_cols)\n",
    "\n",
    "assert len(ordinal_cols) == 1\n",
    "assert len(numeric_cols) == 2\n",
    "assert 'Pclass' in ordinal_cols\n",
    "assert 'Age' in numeric_cols\n",
    "assert 'Fare' in numeric_cols"
   ]
  },
  {
   "cell_type": "markdown",
   "metadata": {
    "colab_type": "text",
    "deletable": false,
    "editable": false,
    "id": "xdHkCw7CN-JP",
    "nbgrader": {
     "cell_type": "markdown",
     "checksum": "2ac13d3fa5b542a55727decf815e9c91",
     "grade": false,
     "grade_id": "cell-8b443a15975c90a9",
     "locked": true,
     "schema_version": 3,
     "solution": false,
     "task": false
    }
   },
   "source": [
    "We can use different plots to explore numerical features. Below you can find some examples with the variable `Age`.  "
   ]
  },
  {
   "cell_type": "code",
   "execution_count": 32,
   "metadata": {
    "colab": {
     "base_uri": "https://localhost:8080/",
     "height": 175
    },
    "colab_type": "code",
    "executionInfo": {
     "elapsed": 615,
     "status": "ok",
     "timestamp": 1588942709565,
     "user": {
      "displayName": "Anna Kuzina",
      "photoUrl": "https://lh3.googleusercontent.com/a-/AOh14GiemaXGZADupTQf2gOFyfVMKD8BYzFXipMt2krfaeg=s64",
      "userId": "14976976853760262600"
     },
     "user_tz": -180
    },
    "id": "7fLiaQLSE9z4",
    "outputId": "1b72bbe2-664d-4e7c-cb42-6ed4dd32f16f"
   },
   "outputs": [
    {
     "name": "stdout",
     "output_type": "stream",
     "text": [
      "\n",
      "We can use histograms or boxplots to see how numerical features depends on the categorical one.\n",
      "1. Age vs Target\n"
     ]
    },
    {
     "data": {
      "image/png": "[encoded data removed]",
      "text/plain": [
       "<Figure size 432x288 with 2 Axes>"
      ]
     },
     "metadata": {
      "needs_background": "light"
     },
     "output_type": "display_data"
    },
    {
     "name": "stdout",
     "output_type": "stream",
     "text": [
      "\n",
      "2. Age vs Sex\n"
     ]
    },
    {
     "data": {
      "image/png": "[encoded data removed]",
      "text/plain": [
       "<Figure size 504x360 with 1 Axes>"
      ]
     },
     "metadata": {
      "needs_background": "light"
     },
     "output_type": "display_data"
    },
    {
     "name": "stdout",
     "output_type": "stream",
     "text": [
      "3. Age vs Target\n"
     ]
    },
    {
     "data": {
      "image/png": "[encoded data removed]",
      "text/plain": [
       "<Figure size 504x360 with 1 Axes>"
      ]
     },
     "metadata": {
      "needs_background": "light"
     },
     "output_type": "display_data"
    },
    {
     "name": "stdout",
     "output_type": "stream",
     "text": [
      "\n",
      "Scatter plots are usefull to spot connection between two numeric features.\n"
     ]
    },
    {
     "data": {
      "image/png": "[encoded data removed]",
      "text/plain": [
       "<Figure size 432x288 with 1 Axes>"
      ]
     },
     "metadata": {
      "needs_background": "light"
     },
     "output_type": "display_data"
    }
   ],
   "source": [
    "print()\n",
    "print('We can use histograms or boxplots to see how numerical features depends on the categorical one.')\n",
    "print('1. Age vs Target')\n",
    "titanic.hist(column='Age', by='Survived', bins=20, sharey=True);\n",
    "plt.show();\n",
    "\n",
    "print()\n",
    "print('2. Age vs Sex')\n",
    "titanic.boxplot(column='Age', by='Sex', figsize=(7,5));\n",
    "plt.ylabel('Age');\n",
    "plt.show();\n",
    "\n",
    "print('3. Age vs Target')\n",
    "titanic.boxplot(column='Age', by='Title', figsize=(7,5));\n",
    "plt.ylabel('Age');\n",
    "plt.show();\n",
    "\n",
    "print()\n",
    "print('Scatter plots are usefull to spot connection between two numeric features.')\n",
    "titanic.plot.scatter(x='Age', y='Fare');\n",
    "plt.grid()\n",
    "plt.title('Scatter plot of Age and Fare');"
   ]
  },
  {
   "cell_type": "markdown",
   "metadata": {
    "colab": {
     "base_uri": "https://localhost:8080/",
     "height": 318
    },
    "colab_type": "code",
    "deletable": false,
    "editable": false,
    "executionInfo": {
     "elapsed": 721,
     "status": "ok",
     "timestamp": 1588943213481,
     "user": {
      "displayName": "Anna Kuzina",
      "photoUrl": "https://lh3.googleusercontent.com/a-/AOh14GiemaXGZADupTQf2gOFyfVMKD8BYzFXipMt2krfaeg=s64",
      "userId": "14976976853760262600"
     },
     "user_tz": -180
    },
    "id": "vWgnGSowPLSm",
    "nbgrader": {
     "cell_type": "markdown",
     "checksum": "55a06c8b7318f11ecca91ff684d85c96",
     "grade": false,
     "grade_id": "cell-1e34723320a6159f",
     "locked": true,
     "schema_version": 3,
     "solution": false,
     "task": false
    },
    "outputId": "4b5b82cf-0747-44e3-abef-3b7d881eb30f"
   },
   "source": [
    "One reason, why it is usefull to make such plots is that it may help to fill in missing values. Keep it in mind for the next part of this notebook"
   ]
  },
  {
   "cell_type": "markdown",
   "metadata": {
    "colab_type": "text",
    "deletable": false,
    "editable": false,
    "id": "e8go58wc8rkp",
    "nbgrader": {
     "cell_type": "markdown",
     "checksum": "5997c2e39abd0173a60791dbbcda8c2f",
     "grade": false,
     "grade_id": "cell-9ee4600e50832a6c",
     "locked": true,
     "schema_version": 3,
     "solution": false,
     "task": false
    }
   },
   "source": [
    "---\n",
    "## 1.3 working with missing values <a class=\"anchor\" id=\"na\"></a>\n",
    "<a class=\"anchor\" id=\"task10\"></a>\n",
    "**Task 10** [1 pts] Compute proportion of missing values in each column. Store the answer in the variable `prop_missing`.\n"
   ]
  },
  {
   "cell_type": "code",
   "execution_count": 33,
   "metadata": {
    "colab": {
     "base_uri": "https://localhost:8080/",
     "height": 246
    },
    "colab_type": "code",
    "deletable": false,
    "executionInfo": {
     "elapsed": 948,
     "status": "ok",
     "timestamp": 1588940619885,
     "user": {
      "displayName": "Anna Kuzina",
      "photoUrl": "https://lh3.googleusercontent.com/a-/AOh14GiemaXGZADupTQf2gOFyfVMKD8BYzFXipMt2krfaeg=s64",
      "userId": "14976976853760262600"
     },
     "user_tz": -180
    },
    "id": "LtQvp-FSp4hS",
    "nbgrader": {
     "cell_type": "code",
     "checksum": "ee795b3549f5bda94a46f708d3bb4591",
     "grade": false,
     "grade_id": "cell-8c2846899255e3df",
     "locked": false,
     "schema_version": 3,
     "solution": true,
     "task": false
    },
    "outputId": "894e0742-a126-4244-8026-fae110172777"
   },
   "outputs": [
    {
     "data": {
      "text/html": [
       "<div>\n",
       "<style scoped>\n",
       "    .dataframe tbody tr th:only-of-type {\n",
       "        vertical-align: middle;\n",
       "    }\n",
       "\n",
       "    .dataframe tbody tr th {\n",
       "        vertical-align: top;\n",
       "    }\n",
       "\n",
       "    .dataframe thead th {\n",
       "        text-align: right;\n",
       "    }\n",
       "</style>\n",
       "<table border=\"1\" class=\"dataframe\">\n",
       "  <thead>\n",
       "    <tr style=\"text-align: right;\">\n",
       "      <th></th>\n",
       "      <th>Survived</th>\n",
       "      <th>Pclass</th>\n",
       "      <th>Sex</th>\n",
       "      <th>Age</th>\n",
       "      <th>Fare</th>\n",
       "      <th>Embarked</th>\n",
       "      <th>Title</th>\n",
       "      <th>FamilySize_1</th>\n",
       "      <th>FamilySize_2</th>\n",
       "      <th>FamilySize_3</th>\n",
       "    </tr>\n",
       "  </thead>\n",
       "  <tbody>\n",
       "    <tr>\n",
       "      <th>0</th>\n",
       "      <td>0</td>\n",
       "      <td>3</td>\n",
       "      <td>male</td>\n",
       "      <td>22.0</td>\n",
       "      <td>7.2500</td>\n",
       "      <td>S</td>\n",
       "      <td>Mr</td>\n",
       "      <td>0.0</td>\n",
       "      <td>1.0</td>\n",
       "      <td>0.0</td>\n",
       "    </tr>\n",
       "    <tr>\n",
       "      <th>1</th>\n",
       "      <td>1</td>\n",
       "      <td>1</td>\n",
       "      <td>female</td>\n",
       "      <td>38.0</td>\n",
       "      <td>71.2833</td>\n",
       "      <td>C</td>\n",
       "      <td>Mrs</td>\n",
       "      <td>0.0</td>\n",
       "      <td>1.0</td>\n",
       "      <td>0.0</td>\n",
       "    </tr>\n",
       "    <tr>\n",
       "      <th>2</th>\n",
       "      <td>1</td>\n",
       "      <td>3</td>\n",
       "      <td>female</td>\n",
       "      <td>26.0</td>\n",
       "      <td>7.9250</td>\n",
       "      <td>S</td>\n",
       "      <td>Miss</td>\n",
       "      <td>1.0</td>\n",
       "      <td>0.0</td>\n",
       "      <td>0.0</td>\n",
       "    </tr>\n",
       "    <tr>\n",
       "      <th>3</th>\n",
       "      <td>1</td>\n",
       "      <td>1</td>\n",
       "      <td>female</td>\n",
       "      <td>35.0</td>\n",
       "      <td>53.1000</td>\n",
       "      <td>S</td>\n",
       "      <td>Mrs</td>\n",
       "      <td>0.0</td>\n",
       "      <td>1.0</td>\n",
       "      <td>0.0</td>\n",
       "    </tr>\n",
       "    <tr>\n",
       "      <th>4</th>\n",
       "      <td>0</td>\n",
       "      <td>3</td>\n",
       "      <td>male</td>\n",
       "      <td>35.0</td>\n",
       "      <td>8.0500</td>\n",
       "      <td>S</td>\n",
       "      <td>Mr</td>\n",
       "      <td>1.0</td>\n",
       "      <td>0.0</td>\n",
       "      <td>0.0</td>\n",
       "    </tr>\n",
       "    <tr>\n",
       "      <th>...</th>\n",
       "      <td>...</td>\n",
       "      <td>...</td>\n",
       "      <td>...</td>\n",
       "      <td>...</td>\n",
       "      <td>...</td>\n",
       "      <td>...</td>\n",
       "      <td>...</td>\n",
       "      <td>...</td>\n",
       "      <td>...</td>\n",
       "      <td>...</td>\n",
       "    </tr>\n",
       "    <tr>\n",
       "      <th>886</th>\n",
       "      <td>0</td>\n",
       "      <td>2</td>\n",
       "      <td>male</td>\n",
       "      <td>27.0</td>\n",
       "      <td>13.0000</td>\n",
       "      <td>S</td>\n",
       "      <td>Other</td>\n",
       "      <td>1.0</td>\n",
       "      <td>0.0</td>\n",
       "      <td>0.0</td>\n",
       "    </tr>\n",
       "    <tr>\n",
       "      <th>887</th>\n",
       "      <td>1</td>\n",
       "      <td>1</td>\n",
       "      <td>female</td>\n",
       "      <td>19.0</td>\n",
       "      <td>30.0000</td>\n",
       "      <td>S</td>\n",
       "      <td>Miss</td>\n",
       "      <td>1.0</td>\n",
       "      <td>0.0</td>\n",
       "      <td>0.0</td>\n",
       "    </tr>\n",
       "    <tr>\n",
       "      <th>888</th>\n",
       "      <td>0</td>\n",
       "      <td>3</td>\n",
       "      <td>female</td>\n",
       "      <td>NaN</td>\n",
       "      <td>23.4500</td>\n",
       "      <td>S</td>\n",
       "      <td>Miss</td>\n",
       "      <td>0.0</td>\n",
       "      <td>1.0</td>\n",
       "      <td>0.0</td>\n",
       "    </tr>\n",
       "    <tr>\n",
       "      <th>889</th>\n",
       "      <td>1</td>\n",
       "      <td>1</td>\n",
       "      <td>male</td>\n",
       "      <td>26.0</td>\n",
       "      <td>30.0000</td>\n",
       "      <td>C</td>\n",
       "      <td>Mr</td>\n",
       "      <td>1.0</td>\n",
       "      <td>0.0</td>\n",
       "      <td>0.0</td>\n",
       "    </tr>\n",
       "    <tr>\n",
       "      <th>890</th>\n",
       "      <td>0</td>\n",
       "      <td>3</td>\n",
       "      <td>male</td>\n",
       "      <td>32.0</td>\n",
       "      <td>7.7500</td>\n",
       "      <td>Q</td>\n",
       "      <td>Mr</td>\n",
       "      <td>1.0</td>\n",
       "      <td>0.0</td>\n",
       "      <td>0.0</td>\n",
       "    </tr>\n",
       "  </tbody>\n",
       "</table>\n",
       "<p>891 rows × 10 columns</p>\n",
       "</div>"
      ],
      "text/plain": [
       "     Survived  Pclass     Sex   Age     Fare Embarked  Title  FamilySize_1  \\\n",
       "0           0       3    male  22.0   7.2500        S     Mr           0.0   \n",
       "1           1       1  female  38.0  71.2833        C    Mrs           0.0   \n",
       "2           1       3  female  26.0   7.9250        S   Miss           1.0   \n",
       "3           1       1  female  35.0  53.1000        S    Mrs           0.0   \n",
       "4           0       3    male  35.0   8.0500        S     Mr           1.0   \n",
       "..        ...     ...     ...   ...      ...      ...    ...           ...   \n",
       "886         0       2    male  27.0  13.0000        S  Other           1.0   \n",
       "887         1       1  female  19.0  30.0000        S   Miss           1.0   \n",
       "888         0       3  female   NaN  23.4500        S   Miss           0.0   \n",
       "889         1       1    male  26.0  30.0000        C     Mr           1.0   \n",
       "890         0       3    male  32.0   7.7500        Q     Mr           1.0   \n",
       "\n",
       "     FamilySize_2  FamilySize_3  \n",
       "0             1.0           0.0  \n",
       "1             1.0           0.0  \n",
       "2             0.0           0.0  \n",
       "3             1.0           0.0  \n",
       "4             0.0           0.0  \n",
       "..            ...           ...  \n",
       "886           0.0           0.0  \n",
       "887           0.0           0.0  \n",
       "888           1.0           0.0  \n",
       "889           0.0           0.0  \n",
       "890           0.0           0.0  \n",
       "\n",
       "[891 rows x 10 columns]"
      ]
     },
     "execution_count": 33,
     "metadata": {},
     "output_type": "execute_result"
    }
   ],
   "source": [
    "#titanic=titanic.drop(['PassengerId','Cabin','Name','Ticket'],axis=1)\n",
    "titanic"
   ]
  },
  {
   "cell_type": "code",
   "execution_count": 34,
   "metadata": {},
   "outputs": [
    {
     "data": {
      "text/plain": [
       "Survived        0.000000\n",
       "Pclass          0.000000\n",
       "Sex             0.000000\n",
       "Age             0.198653\n",
       "Fare            0.000000\n",
       "Embarked        0.002245\n",
       "Title           0.000000\n",
       "FamilySize_1    0.000000\n",
       "FamilySize_2    0.000000\n",
       "FamilySize_3    0.000000\n",
       "dtype: float64"
      ]
     },
     "execution_count": 34,
     "metadata": {},
     "output_type": "execute_result"
    }
   ],
   "source": [
    "# your code here\n",
    "\n",
    "isna_df=pd.isna(titanic)\n",
    "t = isna_df[isna_df['Age']]\n",
    "t.shape\n",
    "isna_df.sum()\n",
    "prop_missing = isna_df.sum()/isna_df.shape[0]\n",
    "prop_missing"
   ]
  },
  {
   "cell_type": "code",
   "execution_count": 35,
   "metadata": {
    "deletable": false,
    "editable": false,
    "nbgrader": {
     "cell_type": "code",
     "checksum": "db701fc53e5e7e04587ec04fe374bafe",
     "grade": true,
     "grade_id": "cell-65b3a6e89c523d51",
     "locked": true,
     "points": 1,
     "schema_version": 3,
     "solution": false,
     "task": false
    }
   },
   "outputs": [
    {
     "name": "stdout",
     "output_type": "stream",
     "text": [
      "Proportion of missing targets: 0.00\n",
      "Proportion of missing `Age` values: 0.20\n"
     ]
    }
   ],
   "source": [
    "# TEST\n",
    "print('Proportion of missing targets: {:.2f}'.format(prop_missing.Survived))\n",
    "print('Proportion of missing `Age` values: {:.2f}'.format(prop_missing.Age))\n",
    "\n",
    "prop_CORRECT = titanic.isnull().sum()/titanic.shape[0]\n",
    "assert prop_missing.shape[0] == prop_CORRECT.shape[0], 'Wrong number of values'\n",
    "assert np.allclose(prop_missing.Age, 177./891.), 'Wrong proportion for th ecolumn Age'\n",
    "assert sum(prop_missing == 0) == sum(prop_CORRECT == 0), 'Wrong number of coumns with 0 missing values'"
   ]
  },
  {
   "cell_type": "markdown",
   "metadata": {
    "colab_type": "text",
    "deletable": false,
    "editable": false,
    "id": "k8n8kW9Z9iDm",
    "nbgrader": {
     "cell_type": "markdown",
     "checksum": "47d8c17ace448924e0fc7d743e34280d",
     "grade": false,
     "grade_id": "cell-6f1656159b2630d5",
     "locked": true,
     "schema_version": 3,
     "solution": false,
     "task": false
    }
   },
   "source": [
    "We have two columns with missing values. \n"
   ]
  },
  {
   "cell_type": "code",
   "execution_count": 36,
   "metadata": {},
   "outputs": [
    {
     "data": {
      "text/plain": [
       "array(['Age', 'Embarked'], dtype=object)"
      ]
     },
     "execution_count": 36,
     "metadata": {},
     "output_type": "execute_result"
    }
   ],
   "source": [
    "titanic.columns[prop_missing > 0].values"
   ]
  },
  {
   "cell_type": "markdown",
   "metadata": {
    "deletable": false,
    "editable": false,
    "nbgrader": {
     "cell_type": "markdown",
     "checksum": "cd811f279ed8717721ca028b77f8fcc6",
     "grade": false,
     "grade_id": "cell-93223e6e1beacebc",
     "locked": true,
     "schema_version": 3,
     "solution": false,
     "task": false
    }
   },
   "source": [
    "<a class=\"anchor\" id=\"task11\"></a>\n",
    "What can we do with that? Below you can find some options:\n",
    "- Fill all the NAs with the same value (mean, median, any other constant)\n",
    "- Fill NAs using grouping (e.g. we can fill missing in the variable `Fare` for male and female passengers separately using their average value)\n",
    "- Drop all the rows with missing values\n",
    "- Drop the whole column (e.g. if there are too many missing values)\n",
    "\n",
    "The most popular way is to use `SimpleImputer` from sklearn. If fills all the missing values with the same number. \n",
    "\n",
    "\n",
    "**Task 11** [2 pts] In this task we will implement a more phisticated Imputer. `MeanGroupImputer`. We will make sure that it has proper sklearn interface, so that we can use it within our pipelines. Below you can find the skeleton code for the `MeanGroupImputer`. Please read it carefully to make sure you understand everythig. Your task is to write missing code for the method `transform`. \n"
   ]
  },
  {
   "cell_type": "code",
   "execution_count": 37,
   "metadata": {
    "deletable": false,
    "nbgrader": {
     "cell_type": "code",
     "checksum": "550acd3a6517a6dc00df158f553680c5",
     "grade": false,
     "grade_id": "cell-5c83fb1c75d9bd6c",
     "locked": false,
     "schema_version": 3,
     "solution": true,
     "task": false
    }
   },
   "outputs": [],
   "source": [
    "from sklearn.base import BaseEstimator, TransformerMixin\n",
    "class MeanGroupImputer(BaseEstimator, TransformerMixin):\n",
    "    '''\n",
    "    Class used for imputing missing values in a pd.DataFrame using mean value within group\n",
    "    \n",
    "    Parameters\n",
    "    ----------    \n",
    "    group_cols : str\n",
    "        A column used to calculate the mean values\n",
    "    Returns\n",
    "    -------\n",
    "    X : array-like\n",
    "        The array with imputed values in the target column\n",
    "    '''\n",
    "    def __init__(self, group_col):\n",
    "        assert type(group_col) == str, 'group_col should be a string'\n",
    "\n",
    "        self.group_col = group_col\n",
    "    \n",
    "    def fit(self, X, y=None):\n",
    "        assert X[self.group_col].isna().sum() == 0, 'There are missing values in the group_col'\n",
    "        \n",
    "        # Group dataset by `group_col` and calculate mean value of all the other columns within this group\n",
    "        \n",
    "        self.mapping = X.groupby(self.group_col).mean()\n",
    "        \n",
    "        return self \n",
    "    \n",
    "    def transform(self, X, y=None):\n",
    "        X = X.copy()\n",
    "        # make sure that the imputer was fitted\n",
    "        assert self.mapping is not None\n",
    "        \n",
    "        # loop over all the groups\n",
    "        \n",
    "        for index, row in self.mapping.iterrows():          \n",
    "            # Fill in missing values for the group `index` with the values `row`            \n",
    "            # your code here            \n",
    "            for column in row.index:\n",
    "                X[column].loc[X[(X[self.group_col] == index) & (X[column].isnull())].index] = row[column]      \n",
    "        #names = list(self.mapping.columns)\n",
    "        #with_means = X.groupby(self.group_col).transform(lambda x: x.fillna(x.mean()))\n",
    "        #for n in names:\n",
    "         #   X[n] = with_means[n]\n",
    "            \n",
    "        \n",
    "        # Then drop grouping column (we did not transform it, so it is not needed anymore)\n",
    "        X.drop(self.group_col, axis=1, inplace=True)\n",
    "        \n",
    "        return X.values"
   ]
  },
  {
   "cell_type": "code",
   "execution_count": 38,
   "metadata": {
    "deletable": false,
    "editable": false,
    "nbgrader": {
     "cell_type": "code",
     "checksum": "742b4eaa3622f0e800d0f8a3840a0dc9",
     "grade": true,
     "grade_id": "cell-da989463096f240f",
     "locked": true,
     "points": 2,
     "schema_version": 3,
     "solution": false,
     "task": false
    }
   },
   "outputs": [
    {
     "name": "stdout",
     "output_type": "stream",
     "text": [
      "  name  value  other_value\n",
      "0    A    1.0         10.0\n",
      "1    A    NaN          NaN\n",
      "2    B    2.0          NaN\n",
      "3    B    NaN         20.0\n",
      "4    B    3.0         30.0\n",
      "5    B    1.0         10.0\n",
      "6    C    3.0         30.0\n",
      "7    C    NaN          NaN\n",
      "8    C    5.0         30.0\n",
      "[[ 1. 10.]\n",
      " [ 1. 10.]\n",
      " [ 2. 20.]\n",
      " [ 2. 20.]\n",
      " [ 3. 30.]\n",
      " [ 1. 10.]\n",
      " [ 3. 30.]\n",
      " [ 4. 30.]\n",
      " [ 5. 30.]]\n"
     ]
    }
   ],
   "source": [
    "toy_dataset = pd.DataFrame({'name': ['A','A', 'B','B','B','B', 'C','C','C'],\n",
    "                            'value': [1, np.nan, 2, np.nan, 3, 1, 3, np.nan, 5],\n",
    "                            'other_value': [10, np.nan, np.nan, 20, 30, 10, 30, np.nan, 30]})\n",
    "print(toy_dataset)\n",
    "imp = MeanGroupImputer(group_col='name')\n",
    "output = imp.fit_transform(toy_dataset)\n",
    "print(output)\n",
    "\n",
    "# test that answers are correct for the toy dataset\n",
    "assert (output[:, 0] == np.array([1.0, 1.0, 2.0, 2.0, 3.0, 1.0, 3.0, 4.0, 5.0])).all()\n",
    "assert (output[:, 1] == np.array([10.0, 10.0, 20.0, 20.0, 30.0, 10.0, 30.0, 30.0, 30.0])).all()\n",
    "\n",
    "correct_out = titanic['Age'].fillna(titanic.groupby('Title')['Age'].transform('mean'))\n",
    "imp = MeanGroupImputer(group_col='Title')\n",
    "titanic_copy = titanic.copy()\n",
    "given_out = imp.fit_transform(titanic[['Title', 'Age']])\n",
    "assert sum(given_out[:, 0] != correct_out) == 0"
   ]
  },
  {
   "cell_type": "markdown",
   "metadata": {
    "deletable": false,
    "editable": false,
    "nbgrader": {
     "cell_type": "markdown",
     "checksum": "7dc3d3e50cd755737ffcdc663fc2bbe3",
     "grade": false,
     "grade_id": "cell-dce865a64f265a1c",
     "locked": true,
     "schema_version": 3,
     "solution": false,
     "task": false
    }
   },
   "source": [
    "## 1.4 Define column transformers <a class=\"anchor\" id=\"columns\"></a>\n",
    "\n",
    " <a class=\"anchor\" id=\"task12\"></a>\n",
    " **Task 12** [2 pts] In this task we will define columns transformer. Your task is to create three pipelines:\n",
    " - `age_pipe`: Pipeline to preprocess column `Age`. It uses `MeanGroupImputer` with the grouping variable `Title` to fill missing values in `Age` and then applies `StandardScaler`\n",
    " - `fare_pipe`: Pipeline to preprocess column `Fare`. It applies `StandardScaler` only\n",
    " - `categ_pipe`: Pipeline to preprocess all categorical variables. It uses `SimpleImputer` to impute missing values with the most frequent class and then applies `OneHotEncoder`\n"
   ]
  },
  {
   "cell_type": "code",
   "execution_count": 39,
   "metadata": {},
   "outputs": [],
   "source": [
    "categ_columns2 = []\n",
    "for e, i in enumerate(titanic.columns):\n",
    "    if i in categ_columns:\n",
    "        categ_columns2.append(e)"
   ]
  },
  {
   "cell_type": "code",
   "execution_count": 40,
   "metadata": {},
   "outputs": [
    {
     "data": {
      "text/plain": [
       "['Title', 'Embarked', 'Sex']"
      ]
     },
     "execution_count": 40,
     "metadata": {},
     "output_type": "execute_result"
    }
   ],
   "source": [
    "ss = list(categ_columns)\n",
    "ss"
   ]
  },
  {
   "cell_type": "code",
   "execution_count": 41,
   "metadata": {},
   "outputs": [],
   "source": [
    "from sklearn.base import BaseEstimator, TransformerMixin\n",
    "class DebugEstimator(BaseEstimator, TransformerMixin):\n",
    "    def __init__(self):\n",
    "        pass\n",
    "    \n",
    "    def fit(self, X, y=None):\n",
    "        return self \n",
    "    \n",
    "    def transform(self, X, y=None):\n",
    "        X = X.copy()\n",
    "        print('DEBUG')\n",
    "        display(X)\n",
    "        for i in X.columns:\n",
    "            display(X[X[i].isnull()])\n",
    "            \n",
    "        return X.values"
   ]
  },
  {
   "cell_type": "code",
   "execution_count": 42,
   "metadata": {},
   "outputs": [],
   "source": [
    "old_titanic = titanic.copy()\n",
    "titanic['Embarked'] = titanic['Embarked'].fillna('S')"
   ]
  },
  {
   "cell_type": "code",
   "execution_count": 43,
   "metadata": {},
   "outputs": [],
   "source": [
    "from sklearn.impute import SimpleImputer\n",
    "from sklearn.compose import ColumnTransformer\n",
    "from sklearn.preprocessing import OneHotEncoder, StandardScaler\n",
    "from sklearn.pipeline import make_pipeline\n",
    "from sklearn.pipeline import Pipeline\n",
    "\n",
    "age_pipe = Pipeline([\n",
    "    ('MeanGroupImputer', MeanGroupImputer(group_col='Title')),\n",
    "    ('scaling', StandardScaler()),\n",
    "])\n",
    "\n",
    "fare_pipe = Pipeline([\n",
    "    ('scaling', StandardScaler()),\n",
    "])\n",
    "\n",
    "categ_pipe = Pipeline([\n",
    "    ('simpler_imputer', SimpleImputer(strategy='most_frequent')),\n",
    "    ('OHE',OneHotEncoder(handle_unknown='ignore')),\n",
    "])\n",
    "\n",
    "column_transformer = ColumnTransformer(\n",
    "    transformers=[\n",
    "        ('age', age_pipe, ['Title', 'Age']),\n",
    "        ('fare', fare_pipe, ['Fare']),\n",
    "        ('all_categ', categ_pipe, ss),\n",
    "    ],\n",
    "    remainder='passthrough'\n",
    ")"
   ]
  },
  {
   "cell_type": "code",
   "execution_count": 44,
   "metadata": {
    "deletable": false,
    "nbgrader": {
     "cell_type": "code",
     "checksum": "0f6bfb485b00188a3dd8179596704f4b",
     "grade": false,
     "grade_id": "cell-f79ada0c37790721",
     "locked": false,
     "schema_version": 3,
     "solution": true,
     "task": false
    }
   },
   "outputs": [],
   "source": [
    "# from sklearn.impute import SimpleImputer\n",
    "# from sklearn.compose import ColumnTransformer\n",
    "# from sklearn.preprocessing import OneHotEncoder, StandardScaler\n",
    "# from sklearn.pipeline import make_pipeline\n",
    "\n",
    "# # Combine all three pipelines in one column transformer\n",
    "# column_transformer = ColumnTransformer([\n",
    "#  ('age', age_pipe, ['Title', 'Age']),\n",
    "#  ('fare', fare_pipe, ['Fare']),\n",
    "#  ('all_categ', categ_pipe, ss),\n",
    "# ],\n",
    "# remainder='passthrough'\n",
    "# )"
   ]
  },
  {
   "cell_type": "code",
   "execution_count": 45,
   "metadata": {
    "deletable": false,
    "editable": false,
    "nbgrader": {
     "cell_type": "code",
     "checksum": "42f550bf4a79b79792617ee2be9cc31d",
     "grade": true,
     "grade_id": "cell-1927282b574aede2",
     "locked": true,
     "points": 2,
     "schema_version": 3,
     "solution": false,
     "task": false
    }
   },
   "outputs": [
    {
     "name": "stdout",
     "output_type": "stream",
     "text": [
      "            0         1    2    3    4    5    6    7    8    9   10   11  \\\n",
      "0   -0.584387 -0.502445  0.0  0.0  0.0  1.0  0.0  0.0  0.0  0.0  1.0  0.0   \n",
      "1    0.621365  0.786845  0.0  0.0  0.0  0.0  1.0  0.0  1.0  0.0  0.0  1.0   \n",
      "2   -0.282949 -0.488854  0.0  0.0  1.0  0.0  0.0  0.0  0.0  0.0  1.0  1.0   \n",
      "3    0.395286  0.420730  0.0  0.0  0.0  0.0  1.0  0.0  0.0  0.0  1.0  1.0   \n",
      "4    0.395286 -0.486337  0.0  0.0  0.0  1.0  0.0  0.0  0.0  0.0  1.0  0.0   \n",
      "..        ...       ...  ...  ...  ...  ...  ...  ...  ...  ...  ...  ...   \n",
      "886 -0.207590 -0.386671  0.0  0.0  0.0  0.0  0.0  1.0  0.0  0.0  1.0  0.0   \n",
      "887 -0.810466 -0.044381  0.0  0.0  1.0  0.0  0.0  0.0  0.0  0.0  1.0  1.0   \n",
      "888 -0.601421 -0.176263  0.0  0.0  1.0  0.0  0.0  0.0  0.0  0.0  1.0  1.0   \n",
      "889 -0.282949 -0.044381  0.0  0.0  0.0  1.0  0.0  0.0  1.0  0.0  0.0  0.0   \n",
      "890  0.169208 -0.492378  0.0  0.0  0.0  1.0  0.0  0.0  0.0  1.0  0.0  0.0   \n",
      "\n",
      "      12   13   14   15   16   17  \n",
      "0    1.0  0.0  3.0  0.0  1.0  0.0  \n",
      "1    0.0  1.0  1.0  0.0  1.0  0.0  \n",
      "2    0.0  1.0  3.0  1.0  0.0  0.0  \n",
      "3    0.0  1.0  1.0  0.0  1.0  0.0  \n",
      "4    1.0  0.0  3.0  1.0  0.0  0.0  \n",
      "..   ...  ...  ...  ...  ...  ...  \n",
      "886  1.0  0.0  2.0  1.0  0.0  0.0  \n",
      "887  0.0  1.0  1.0  1.0  0.0  0.0  \n",
      "888  0.0  0.0  3.0  0.0  1.0  0.0  \n",
      "889  1.0  1.0  1.0  1.0  0.0  0.0  \n",
      "890  1.0  0.0  3.0  1.0  0.0  0.0  \n",
      "\n",
      "[891 rows x 18 columns]\n"
     ]
    }
   ],
   "source": [
    "test_titanic = column_transformer.fit_transform(titanic)\n",
    "print(pd.DataFrame(test_titanic))\n",
    "\n",
    "assert (pd.DataFrame(test_titanic).isna().sum().values == 0).all()\n",
    "assert test_titanic.shape[1] == 18, 'Wrong number of columns'"
   ]
  },
  {
   "cell_type": "markdown",
   "metadata": {
    "deletable": false,
    "editable": false,
    "nbgrader": {
     "cell_type": "markdown",
     "checksum": "a93e375f0a53ff73f96f3559ce7fea7f",
     "grade": false,
     "grade_id": "cell-78fe5935f758ff1e",
     "locked": true,
     "schema_version": 3,
     "solution": false,
     "task": false
    }
   },
   "source": [
    "## 1.5 Train/test split <a class=\"anchor\" id=\"train_test\"></a>"
   ]
  },
  {
   "cell_type": "code",
   "execution_count": 46,
   "metadata": {
    "deletable": false,
    "editable": false,
    "nbgrader": {
     "cell_type": "code",
     "checksum": "78ee290189bbf6fd4435796185f87353",
     "grade": false,
     "grade_id": "cell-d50c1c521723f6e9",
     "locked": true,
     "schema_version": 3,
     "solution": false,
     "task": false
    }
   },
   "outputs": [],
   "source": [
    "from sklearn.model_selection import train_test_split\n",
    "\n",
    "tr, te = train_test_split(titanic, test_size=0.2, random_state=42)\n",
    "\n",
    "y_train = tr.Survived\n",
    "y_test = te.Survived\n",
    "X_train = tr.drop(['Survived'], axis=1)\n",
    "X_test = te.drop(['Survived'], axis=1)"
   ]
  },
  {
   "cell_type": "markdown",
   "metadata": {
    "deletable": false,
    "editable": false,
    "nbgrader": {
     "cell_type": "markdown",
     "checksum": "9777bb200370b3e7acdfdf9535bf3b95",
     "grade": false,
     "grade_id": "cell-0a85e95d85f3491e",
     "locked": true,
     "schema_version": 3,
     "solution": false,
     "task": false
    }
   },
   "source": [
    "# 2. Logistic Regression and Support Vector Machine <a class=\"anchor\" id=\"part2\"></a>\n",
    "\n",
    "\n",
    "## 2.1 Fit Logistic Regression\n",
    "\n",
    " <a class=\"anchor\" id=\"task13\"></a>\n",
    "**Task 13** [1 pt] Define the `log_reg_pipe` - pipeline which applies `column_transformer` and fits logistic regression with the the hyperparameter `penalty='none'` (by default sklearn applies L2 regularization). Calculate the 5-fold cross-validation score (use `accuracy` as a scoring function). Save the result (average accuracy on cross-validation) in the variable `log_reg_score`."
   ]
  },
  {
   "cell_type": "code",
   "execution_count": 54,
   "metadata": {
    "deletable": false,
    "nbgrader": {
     "cell_type": "code",
     "checksum": "8e22b0039452140c47c23dc1b5bb14ec",
     "grade": false,
     "grade_id": "cell-8bb06ad3b7e9aa39",
     "locked": false,
     "schema_version": 3,
     "solution": true,
     "task": false
    }
   },
   "outputs": [],
   "source": [
    "from sklearn.pipeline import Pipeline\n",
    "from sklearn.linear_model import LogisticRegression\n",
    "from sklearn.model_selection import cross_val_score\n",
    "\n",
    "# your code here\n",
    "\n",
    "log_reg_pipe = Pipeline([\n",
    "    (\"ct\", column_transformer),\n",
    "    (\"lr\", LogisticRegression(penalty='none'))\n",
    "])\n",
    "\n",
    "log_reg_pipe.fit(X_train, y_train)\n",
    "log_reg_score = cross_val_score(log_reg_pipe, X_train, y_train, scoring='accuracy', cv=5).mean()"
   ]
  },
  {
   "cell_type": "code",
   "execution_count": 55,
   "metadata": {
    "deletable": false,
    "editable": false,
    "nbgrader": {
     "cell_type": "code",
     "checksum": "9e42b3fc56aa1887d6d4a576ce0d5d6f",
     "grade": true,
     "grade_id": "cell-d6e870a4329947b6",
     "locked": true,
     "points": 1,
     "schema_version": 3,
     "solution": false,
     "task": false
    }
   },
   "outputs": [
    {
     "name": "stdout",
     "output_type": "stream",
     "text": [
      "0.8243967300305328\n"
     ]
    }
   ],
   "source": [
    "print(log_reg_score)\n",
    "\n",
    "assert np.allclose(log_reg_score, 0.824, rtol=1e-3)\n",
    "assert isinstance(log_reg_pipe.steps[0][1], ColumnTransformer)\n",
    "assert isinstance(log_reg_pipe.steps[1][1], LogisticRegression)"
   ]
  },
  {
   "cell_type": "markdown",
   "metadata": {
    "deletable": false,
    "editable": false,
    "nbgrader": {
     "cell_type": "markdown",
     "checksum": "d7b75739a8ab45a4ce506e58c2c3a097",
     "grade": false,
     "grade_id": "cell-6a5de7b77d2d21f5",
     "locked": true,
     "schema_version": 3,
     "solution": false,
     "task": false
    }
   },
   "source": [
    "## 2.2 Fit Support Vector Machine\n",
    "\n",
    " <a class=\"anchor\" id=\"task14\"></a>\n",
    "**Task 14** [1 pt] Define the `svm_pipe` - pipeline which applies `column_transformer` and fits Support Vector Machine model (it is imported for you below) using the hyperparameter `kernel='linear'`. Calculate the 5-fold cross-validation score (use `accuracy` as a scoring function). Save the result (average accuracy on cross-validation) in the variable `svm_score`."
   ]
  },
  {
   "cell_type": "code",
   "execution_count": 60,
   "metadata": {
    "deletable": false,
    "nbgrader": {
     "cell_type": "code",
     "checksum": "c73bedb8efa0db4658719cb9b54f658f",
     "grade": false,
     "grade_id": "cell-e49424107e9226cb",
     "locked": false,
     "schema_version": 3,
     "solution": true,
     "task": false
    }
   },
   "outputs": [],
   "source": [
    "from sklearn.svm import SVC\n",
    "\n",
    "# your code here\n",
    "svm_pipe = Pipeline([\n",
    "     ('ct', column_transformer),\n",
    "    ('lr', SVC(kernel='linear'))\n",
    "])\n",
    "# svm_score = cross_val_score(svm_pipe, X_train, y_train, cv=5, scoring = 'accuracy')\n",
    "svm_score = cross_val_score(svm_pipe, X_train, y_train, cv=5, scoring = 'accuracy').mean()"
   ]
  },
  {
   "cell_type": "code",
   "execution_count": 61,
   "metadata": {
    "deletable": false,
    "editable": false,
    "nbgrader": {
     "cell_type": "code",
     "checksum": "b7a96a450e0a60e0752a51ad8dc737c9",
     "grade": true,
     "grade_id": "cell-86e3112caf998f12",
     "locked": true,
     "points": 1,
     "schema_version": 3,
     "solution": false,
     "task": false
    }
   },
   "outputs": [
    {
     "name": "stdout",
     "output_type": "stream",
     "text": [
      "0.8300108342361863\n"
     ]
    }
   ],
   "source": [
    "print(svm_score)\n",
    "\n",
    "assert np.allclose(svm_score, 0.83, rtol=1e-3)\n",
    "assert isinstance(svm_pipe.steps[0][1], ColumnTransformer)\n",
    "assert isinstance(svm_pipe.steps[1][1], SVC)"
   ]
  },
  {
   "cell_type": "markdown",
   "metadata": {
    "deletable": false,
    "editable": false,
    "nbgrader": {
     "cell_type": "markdown",
     "checksum": "3bc68c7faf75fae7173a6be90802235f",
     "grade": false,
     "grade_id": "cell-e77c243f4e58c126",
     "locked": true,
     "schema_version": 3,
     "solution": false,
     "task": false
    }
   },
   "source": [
    "## 2.3 Compare different models\n",
    "\n",
    " <a class=\"anchor\" id=\"task15\"></a>\n",
    "**Task 15** [2 pts] In this task you are supposed to use grid search to find the best classifier for the given dataset. Use `GridSearchCV` class from sklearn. Use 5-Fold cross validation with accuracy as a scoring metric.\n",
    "\n",
    "*Hints*. Read documentation to see, which hyperparameters `LogisticRegression` and `SVC` have. Pay attention to `kernel` in the SVM model and the regularization coefficient `C` for both LogisticRegression and SVC, try different penalties for `LogisticRegression`. Explore other hyperparameters as well. Your task is to simply get the best accuracy posibe. The minimum passing value will be 0.84 (average score on cross-validaition)\n",
    "\n",
    "Please, do not use models other that `SVC` or `LogisticRegression`."
   ]
  },
  {
   "cell_type": "code",
   "execution_count": 69,
   "metadata": {
    "colab": {},
    "colab_type": "code",
    "deletable": false,
    "id": "PQ0rvWbqz3qj",
    "nbgrader": {
     "cell_type": "code",
     "checksum": "d88e4c27e6eb79a902de2c3623cd554e",
     "grade": false,
     "grade_id": "cell-ddf2a2bf617ee294",
     "locked": false,
     "schema_version": 3,
     "solution": true,
     "task": false
    }
   },
   "outputs": [
    {
     "data": {
      "text/plain": [
       "GridSearchCV(cv=5, error_score=nan,\n",
       "             estimator=Pipeline(memory=None,\n",
       "                                steps=[('ct',\n",
       "                                        ColumnTransformer(n_jobs=None,\n",
       "                                                          remainder='passthrough',\n",
       "                                                          sparse_threshold=0.3,\n",
       "                                                          transformer_weights=None,\n",
       "                                                          transformers=[('age',\n",
       "                                                                         Pipeline(memory=None,\n",
       "                                                                                  steps=[('MeanGroupImputer',\n",
       "                                                                                          MeanGroupImputer(group_col='Title')),\n",
       "                                                                                         ('scaling',\n",
       "                                                                                          StandardScaler(copy=True,\n",
       "                                                                                                         with_mean=True,\n",
       "                                                                                                         with_std=True))...\n",
       "                                     gamma=0.01, kernel='poly', max_iter=10000,\n",
       "                                     probability=False, random_state=None,\n",
       "                                     shrinking=True, tol=0.001,\n",
       "                                     verbose=False)],\n",
       "                          'cf__C': [0.45], 'cf__coef0': [4, 5],\n",
       "                          'cf__degree': [4, 5],\n",
       "                          'cf__gamma': [0.005, 0.01, 0.05],\n",
       "                          'cf__kernel': ['linear', 'poly', 'rbf'],\n",
       "                          'cf__max_iter': [1000, 10000]}],\n",
       "             pre_dispatch='2*n_jobs', refit=True, return_train_score=False,\n",
       "             scoring='accuracy', verbose=0)"
      ]
     },
     "execution_count": 69,
     "metadata": {},
     "output_type": "execute_result"
    }
   ],
   "source": [
    "from sklearn.model_selection import GridSearchCV\n",
    "#param_grid = {'C':[1e-4, 1e-2, 0.1, 1, 10]}\n",
    "# your code here\n",
    "\n",
    "\n",
    "pipe = Pipeline([\n",
    "    ('ct', column_transformer),\n",
    "    ('cf' , LogisticRegression())\n",
    "])\n",
    "\n",
    "param_grid = [\n",
    "    {'cf' : [LogisticRegression()],\n",
    "        'cf__C' : [0.45],\n",
    "        'cf__penalty' : ['l1', 'l2'],\n",
    "        'cf__solver' : ['lbfgs', 'liblinear'],\n",
    "        'cf__max_iter': [1, 10, 100]\n",
    "    },\n",
    "    {'cf' : [SVC()],\n",
    "        'cf__C' : [0.45],\n",
    "        'cf__kernel': ['linear', 'poly', 'rbf'],\n",
    "        'cf__degree': [i for i in range(4,6)],\n",
    "        'cf__coef0': [i for i in range(4,6)],\n",
    "        'cf__gamma': [0.005, 0.01, 0.05],\n",
    "        'cf__max_iter': [1000, 10000]\n",
    "    }\n",
    "]\n",
    "\n",
    "grid_pipe = GridSearchCV(pipe, param_grid = param_grid, cv = 5, scoring='accuracy')\n",
    "grid_pipe.fit(X_train, y_train)"
   ]
  },
  {
   "cell_type": "code",
   "execution_count": 70,
   "metadata": {
    "deletable": false,
    "editable": false,
    "nbgrader": {
     "cell_type": "code",
     "checksum": "8884d341c4f5d20998f063471f227d05",
     "grade": true,
     "grade_id": "cell-056b0f3a1fda6d1a",
     "locked": true,
     "points": 2,
     "schema_version": 3,
     "solution": false,
     "task": false
    }
   },
   "outputs": [
    {
     "name": "stdout",
     "output_type": "stream",
     "text": [
      "0.8384615384615385\n",
      "SVC(C=0.45, break_ties=False, cache_size=200, class_weight=None, coef0=5,\n",
      "    decision_function_shape='ovr', degree=5, gamma=0.01, kernel='poly',\n",
      "    max_iter=10000, probability=False, random_state=None, shrinking=True,\n",
      "    tol=0.001, verbose=False)\n"
     ]
    },
    {
     "ename": "AssertionError",
     "evalue": "",
     "output_type": "error",
     "traceback": [
      "\u001b[0;31m---------------------------------------------------------------------------\u001b[0m",
      "\u001b[0;31mAssertionError\u001b[0m                            Traceback (most recent call last)",
      "\u001b[0;32m<ipython-input-70-f6ba0f0ac68f>\u001b[0m in \u001b[0;36m<module>\u001b[0;34m\u001b[0m\n\u001b[1;32m      2\u001b[0m \u001b[0mprint\u001b[0m\u001b[0;34m(\u001b[0m\u001b[0mgrid_pipe\u001b[0m\u001b[0;34m.\u001b[0m\u001b[0mbest_estimator_\u001b[0m\u001b[0;34m.\u001b[0m\u001b[0msteps\u001b[0m\u001b[0;34m[\u001b[0m\u001b[0;36m1\u001b[0m\u001b[0;34m]\u001b[0m\u001b[0;34m[\u001b[0m\u001b[0;36m1\u001b[0m\u001b[0;34m]\u001b[0m\u001b[0;34m)\u001b[0m\u001b[0;34m\u001b[0m\u001b[0;34m\u001b[0m\u001b[0m\n\u001b[1;32m      3\u001b[0m \u001b[0;34m\u001b[0m\u001b[0m\n\u001b[0;32m----> 4\u001b[0;31m \u001b[0;32massert\u001b[0m \u001b[0mgrid_pipe\u001b[0m\u001b[0;34m.\u001b[0m\u001b[0mbest_score_\u001b[0m \u001b[0;34m>\u001b[0m \u001b[0;36m0.84\u001b[0m\u001b[0;34m\u001b[0m\u001b[0;34m\u001b[0m\u001b[0m\n\u001b[0m\u001b[1;32m      5\u001b[0m \u001b[0;32massert\u001b[0m \u001b[0misinstance\u001b[0m\u001b[0;34m(\u001b[0m\u001b[0mgrid_pipe\u001b[0m\u001b[0;34m.\u001b[0m\u001b[0mbest_estimator_\u001b[0m\u001b[0;34m.\u001b[0m\u001b[0msteps\u001b[0m\u001b[0;34m[\u001b[0m\u001b[0;36m1\u001b[0m\u001b[0;34m]\u001b[0m\u001b[0;34m[\u001b[0m\u001b[0;36m1\u001b[0m\u001b[0;34m]\u001b[0m\u001b[0;34m,\u001b[0m \u001b[0mSVC\u001b[0m\u001b[0;34m)\u001b[0m \u001b[0;32mor\u001b[0m \u001b[0misinstance\u001b[0m\u001b[0;34m(\u001b[0m\u001b[0mgrid_pipe\u001b[0m\u001b[0;34m.\u001b[0m\u001b[0mbest_estimator_\u001b[0m\u001b[0;34m.\u001b[0m\u001b[0msteps\u001b[0m\u001b[0;34m[\u001b[0m\u001b[0;36m1\u001b[0m\u001b[0;34m]\u001b[0m\u001b[0;34m[\u001b[0m\u001b[0;36m1\u001b[0m\u001b[0;34m]\u001b[0m\u001b[0;34m,\u001b[0m \u001b[0mLogisticRegression\u001b[0m\u001b[0;34m)\u001b[0m\u001b[0;34m\u001b[0m\u001b[0;34m\u001b[0m\u001b[0m\n\u001b[1;32m      6\u001b[0m \u001b[0mtest_score\u001b[0m \u001b[0;34m=\u001b[0m \u001b[0mnp\u001b[0m\u001b[0;34m.\u001b[0m\u001b[0mmean\u001b[0m\u001b[0;34m(\u001b[0m\u001b[0mcross_val_score\u001b[0m\u001b[0;34m(\u001b[0m\u001b[0mgrid_pipe\u001b[0m\u001b[0;34m.\u001b[0m\u001b[0mbest_estimator_\u001b[0m\u001b[0;34m,\u001b[0m \u001b[0mX_train\u001b[0m\u001b[0;34m,\u001b[0m \u001b[0my_train\u001b[0m\u001b[0;34m,\u001b[0m \u001b[0mcv\u001b[0m\u001b[0;34m=\u001b[0m\u001b[0;36m5\u001b[0m\u001b[0;34m,\u001b[0m \u001b[0mscoring\u001b[0m\u001b[0;34m=\u001b[0m\u001b[0;34m'accuracy'\u001b[0m\u001b[0;34m)\u001b[0m\u001b[0;34m)\u001b[0m\u001b[0;34m\u001b[0m\u001b[0;34m\u001b[0m\u001b[0m\n",
      "\u001b[0;31mAssertionError\u001b[0m: "
     ]
    }
   ],
   "source": [
    "print(grid_pipe.best_score_)\n",
    "print(grid_pipe.best_estimator_.steps[1][1])\n",
    "\n",
    "assert grid_pipe.best_score_ > 0.84\n",
    "assert isinstance(grid_pipe.best_estimator_.steps[1][1], SVC) or isinstance(grid_pipe.best_estimator_.steps[1][1], LogisticRegression)\n",
    "test_score = np.mean(cross_val_score(grid_pipe.best_estimator_, X_train, y_train, cv=5, scoring='accuracy'))\n",
    "assert np.allclose(test_score, grid_pipe.best_score_, rtol=1e-3)"
   ]
  },
  {
   "cell_type": "markdown",
   "metadata": {
    "deletable": false,
    "editable": false,
    "nbgrader": {
     "cell_type": "markdown",
     "checksum": "69fbf039e609592675c2bbac1c39551e",
     "grade": false,
     "grade_id": "cell-256ce340a7414671",
     "locked": true,
     "schema_version": 3,
     "solution": false,
     "task": false
    }
   },
   "source": [
    "## 2.4 Eval best model on test\n",
    "\n",
    "Now, we can use the best estimator to evaluate model on the test dataset. \n",
    "\n",
    "1. Fit model on the whole test data\n",
    "2. Make predictions on the test set\n",
    "3. Calculate accuracy"
   ]
  },
  {
   "cell_type": "code",
   "execution_count": null,
   "metadata": {},
   "outputs": [],
   "source": [
    "from sklearn.metrics import accuracy_score\n",
    "\n",
    "grid_pipe.best_estimator_.fit(X_train, y_train)\n",
    "y_pred = grid_pipe.best_estimator_.predict(X_test)\n",
    "accuracy_score(y_test, y_pred)"
   ]
  },
  {
   "cell_type": "markdown",
   "metadata": {
    "deletable": false,
    "editable": false,
    "nbgrader": {
     "cell_type": "markdown",
     "checksum": "8601c0db1a92141fccfc5eac75767689",
     "grade": false,
     "grade_id": "cell-f49a2cc882e90504",
     "locked": true,
     "schema_version": 3,
     "solution": false,
     "task": false
    }
   },
   "source": [
    "# Optional Part\n",
    "\n",
    "This homework is based on an extremely popular [Kaggle competition](https://www.kaggle.com/c/titanic/overview). We encourage you to use the result of this homework to get aquanted with this platform. Below, we provide a short instruction along with the list of useful link for those of you who are interested to learn more about it. \n",
    "\n",
    "1. Train the best model you can. Here you can use al the training data to perform cross-validation, because there is a separate `test set` provided by the competioint (We did not use it in the assignment, because there is not correct answers provided for this test dataset)\n",
    "2. Load the test dataset: `pd.read_csv(\"titanic_kaggle_test.csv\")`. We've saved this file for you on courserra labs already\n",
    "3. Do not forget to perform the same transformations you did with the train data (e.g. create new variables, deleting others, etc.)\n",
    "4. Make predictions for this dataset and save them as a csv file. You can find example of the submission file [here](https://www.kaggle.com/c/titanic/data)\n",
    "5. Submit your predictions on Kaggle (do not forget to register beforehand). After some time you will see your score! Do not worry if you are not on the first place of the [Leaderboard](https://www.kaggle.com/c/titanic/leaderboard). Consider solutions of other Data Scientists in the [Notebooks](https://www.kaggle.com/c/titanic/notebooks) section.\n",
    "\n",
    "```Good Luck!```"
   ]
  },
  {
   "cell_type": "code",
   "execution_count": null,
   "metadata": {},
   "outputs": [],
   "source": []
  }
 ],
 "metadata": {
  "colab": {
   "authorship_tag": "ABX9TyMLuDZqhJ6FOtzPDD92rePH",
   "collapsed_sections": [],
   "name": "Week 17. EDA and feature engineering.ipynb",
   "provenance": []
  },
  "kernelspec": {
   "display_name": "Python 3",
   "language": "python",
   "name": "python3"
  },
  "language_info": {
   "codemirror_mode": {
    "name": "ipython",
    "version": 3
   },
   "file_extension": ".py",
   "mimetype": "text/x-python",
   "name": "python",
   "nbconvert_exporter": "python",
   "pygments_lexer": "ipython3",
   "version": "3.7.6"
  }
 },
 "nbformat": 4,
 "nbformat_minor": 4
}
